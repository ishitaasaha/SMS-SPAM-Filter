{
  "nbformat": 4,
  "nbformat_minor": 0,
  "metadata": {
    "colab": {
      "provenance": []
    },
    "kernelspec": {
      "name": "python3",
      "display_name": "Python 3"
    },
    "language_info": {
      "name": "python"
    }
  },
  "cells": [
    {
      "cell_type": "markdown",
      "source": [
        "# ***SMS SPAM Filter with Natural Language Processing !***"
      ],
      "metadata": {
        "id": "zRw-i9983vwm"
      }
    },
    {
      "cell_type": "markdown",
      "source": [
        "I've built a spam filter using Natural Language Processing (NLP) in Python, particularly using the nltk library for text preprocessing and a Naive Bayes classifier for training. The code seems well-organized and includes steps for data analysis, feature extraction, text preprocessing, vectorization, and model training.\n",
        "\n",
        " It's common to evaluate the performance of the model using metrics like accuracy, precision, recall, and F1-score. You can use these metrics to assess how well your model is performing on the training data."
      ],
      "metadata": {
        "id": "pfNRBc_RBKKG"
      }
    },
    {
      "cell_type": "markdown",
      "source": [
        "# **Section I Data Analysis**"
      ],
      "metadata": {
        "id": "e1Dk3ubt3jrg"
      }
    },
    {
      "cell_type": "markdown",
      "source": [
        "# **Step 1**"
      ],
      "metadata": {
        "id": "mxbvf868sG27"
      }
    },
    {
      "cell_type": "markdown",
      "source": [
        "Import necessary libraries"
      ],
      "metadata": {
        "id": "l4sGDgvQu_Eo"
      }
    },
    {
      "cell_type": "code",
      "execution_count": 109,
      "metadata": {
        "id": "1RWMqJT9sF0i"
      },
      "outputs": [],
      "source": [
        "import nltk\n",
        "from nltk.corpus import stopwords\n",
        "\n",
        "from sklearn.feature_extraction.text import CountVectorizer\n",
        "from sklearn.feature_extraction.text import TfidfTransformer\n",
        "\n",
        "import pandas as pd\n",
        "import string\n",
        "import seaborn as sns"
      ]
    },
    {
      "cell_type": "markdown",
      "source": [
        "Read the dataset"
      ],
      "metadata": {
        "id": "xavkwICMux8U"
      }
    },
    {
      "cell_type": "code",
      "source": [
        "# Load the dataset with a different encoding\n",
        "data = pd.read_csv('spam.csv', encoding='latin1')\n",
        "# Display the first few rows of the dataset\n",
        "print(data.head(10))"
      ],
      "metadata": {
        "colab": {
          "base_uri": "https://localhost:8080/"
        },
        "id": "IaK_6mciscnZ",
        "outputId": "bb9ff4dd-e67c-471e-bc05-feae8c00b90e"
      },
      "execution_count": 110,
      "outputs": [
        {
          "output_type": "stream",
          "name": "stdout",
          "text": [
            "     v1                                                 v2 Unnamed: 2  \\\n",
            "0   ham  Go until jurong point, crazy.. Available only ...        NaN   \n",
            "1   ham                      Ok lar... Joking wif u oni...        NaN   \n",
            "2  spam  Free entry in 2 a wkly comp to win FA Cup fina...        NaN   \n",
            "3   ham  U dun say so early hor... U c already then say...        NaN   \n",
            "4   ham  Nah I don't think he goes to usf, he lives aro...        NaN   \n",
            "5  spam  FreeMsg Hey there darling it's been 3 week's n...        NaN   \n",
            "6   ham  Even my brother is not like to speak with me. ...        NaN   \n",
            "7   ham  As per your request 'Melle Melle (Oru Minnamin...        NaN   \n",
            "8  spam  WINNER!! As a valued network customer you have...        NaN   \n",
            "9  spam  Had your mobile 11 months or more? U R entitle...        NaN   \n",
            "\n",
            "  Unnamed: 3 Unnamed: 4  \n",
            "0        NaN        NaN  \n",
            "1        NaN        NaN  \n",
            "2        NaN        NaN  \n",
            "3        NaN        NaN  \n",
            "4        NaN        NaN  \n",
            "5        NaN        NaN  \n",
            "6        NaN        NaN  \n",
            "7        NaN        NaN  \n",
            "8        NaN        NaN  \n",
            "9        NaN        NaN  \n"
          ]
        }
      ]
    },
    {
      "cell_type": "markdown",
      "source": [
        "This gives us information about columns"
      ],
      "metadata": {
        "id": "HIKdAZAWvG60"
      }
    },
    {
      "cell_type": "code",
      "source": [
        "data.info()\n",
        "data.describe()"
      ],
      "metadata": {
        "colab": {
          "base_uri": "https://localhost:8080/",
          "height": 383
        },
        "id": "Fln4gqHgvLAq",
        "outputId": "0710edd2-1001-435d-9089-e42fae8fc914"
      },
      "execution_count": 111,
      "outputs": [
        {
          "output_type": "stream",
          "name": "stdout",
          "text": [
            "<class 'pandas.core.frame.DataFrame'>\n",
            "RangeIndex: 5572 entries, 0 to 5571\n",
            "Data columns (total 5 columns):\n",
            " #   Column      Non-Null Count  Dtype \n",
            "---  ------      --------------  ----- \n",
            " 0   v1          5572 non-null   object\n",
            " 1   v2          5572 non-null   object\n",
            " 2   Unnamed: 2  50 non-null     object\n",
            " 3   Unnamed: 3  12 non-null     object\n",
            " 4   Unnamed: 4  6 non-null      object\n",
            "dtypes: object(5)\n",
            "memory usage: 217.8+ KB\n"
          ]
        },
        {
          "output_type": "execute_result",
          "data": {
            "text/plain": [
              "          v1                      v2  \\\n",
              "count   5572                    5572   \n",
              "unique     2                    5169   \n",
              "top      ham  Sorry, I'll call later   \n",
              "freq    4825                      30   \n",
              "\n",
              "                                               Unnamed: 2  \\\n",
              "count                                                  50   \n",
              "unique                                                 43   \n",
              "top      bt not his girlfrnd... G o o d n i g h t . . .@\"   \n",
              "freq                                                    3   \n",
              "\n",
              "                   Unnamed: 3 Unnamed: 4  \n",
              "count                      12          6  \n",
              "unique                     10          5  \n",
              "top      MK17 92H. 450Ppw 16\"    GNT:-)\"  \n",
              "freq                        2          2  "
            ],
            "text/html": [
              "\n",
              "  <div id=\"df-770f2a58-af52-4eee-b40e-61cd870a11a0\" class=\"colab-df-container\">\n",
              "    <div>\n",
              "<style scoped>\n",
              "    .dataframe tbody tr th:only-of-type {\n",
              "        vertical-align: middle;\n",
              "    }\n",
              "\n",
              "    .dataframe tbody tr th {\n",
              "        vertical-align: top;\n",
              "    }\n",
              "\n",
              "    .dataframe thead th {\n",
              "        text-align: right;\n",
              "    }\n",
              "</style>\n",
              "<table border=\"1\" class=\"dataframe\">\n",
              "  <thead>\n",
              "    <tr style=\"text-align: right;\">\n",
              "      <th></th>\n",
              "      <th>v1</th>\n",
              "      <th>v2</th>\n",
              "      <th>Unnamed: 2</th>\n",
              "      <th>Unnamed: 3</th>\n",
              "      <th>Unnamed: 4</th>\n",
              "    </tr>\n",
              "  </thead>\n",
              "  <tbody>\n",
              "    <tr>\n",
              "      <th>count</th>\n",
              "      <td>5572</td>\n",
              "      <td>5572</td>\n",
              "      <td>50</td>\n",
              "      <td>12</td>\n",
              "      <td>6</td>\n",
              "    </tr>\n",
              "    <tr>\n",
              "      <th>unique</th>\n",
              "      <td>2</td>\n",
              "      <td>5169</td>\n",
              "      <td>43</td>\n",
              "      <td>10</td>\n",
              "      <td>5</td>\n",
              "    </tr>\n",
              "    <tr>\n",
              "      <th>top</th>\n",
              "      <td>ham</td>\n",
              "      <td>Sorry, I'll call later</td>\n",
              "      <td>bt not his girlfrnd... G o o d n i g h t . . .@\"</td>\n",
              "      <td>MK17 92H. 450Ppw 16\"</td>\n",
              "      <td>GNT:-)\"</td>\n",
              "    </tr>\n",
              "    <tr>\n",
              "      <th>freq</th>\n",
              "      <td>4825</td>\n",
              "      <td>30</td>\n",
              "      <td>3</td>\n",
              "      <td>2</td>\n",
              "      <td>2</td>\n",
              "    </tr>\n",
              "  </tbody>\n",
              "</table>\n",
              "</div>\n",
              "    <div class=\"colab-df-buttons\">\n",
              "\n",
              "  <div class=\"colab-df-container\">\n",
              "    <button class=\"colab-df-convert\" onclick=\"convertToInteractive('df-770f2a58-af52-4eee-b40e-61cd870a11a0')\"\n",
              "            title=\"Convert this dataframe to an interactive table.\"\n",
              "            style=\"display:none;\">\n",
              "\n",
              "  <svg xmlns=\"http://www.w3.org/2000/svg\" height=\"24px\" viewBox=\"0 -960 960 960\">\n",
              "    <path d=\"M120-120v-720h720v720H120Zm60-500h600v-160H180v160Zm220 220h160v-160H400v160Zm0 220h160v-160H400v160ZM180-400h160v-160H180v160Zm440 0h160v-160H620v160ZM180-180h160v-160H180v160Zm440 0h160v-160H620v160Z\"/>\n",
              "  </svg>\n",
              "    </button>\n",
              "\n",
              "  <style>\n",
              "    .colab-df-container {\n",
              "      display:flex;\n",
              "      gap: 12px;\n",
              "    }\n",
              "\n",
              "    .colab-df-convert {\n",
              "      background-color: #E8F0FE;\n",
              "      border: none;\n",
              "      border-radius: 50%;\n",
              "      cursor: pointer;\n",
              "      display: none;\n",
              "      fill: #1967D2;\n",
              "      height: 32px;\n",
              "      padding: 0 0 0 0;\n",
              "      width: 32px;\n",
              "    }\n",
              "\n",
              "    .colab-df-convert:hover {\n",
              "      background-color: #E2EBFA;\n",
              "      box-shadow: 0px 1px 2px rgba(60, 64, 67, 0.3), 0px 1px 3px 1px rgba(60, 64, 67, 0.15);\n",
              "      fill: #174EA6;\n",
              "    }\n",
              "\n",
              "    .colab-df-buttons div {\n",
              "      margin-bottom: 4px;\n",
              "    }\n",
              "\n",
              "    [theme=dark] .colab-df-convert {\n",
              "      background-color: #3B4455;\n",
              "      fill: #D2E3FC;\n",
              "    }\n",
              "\n",
              "    [theme=dark] .colab-df-convert:hover {\n",
              "      background-color: #434B5C;\n",
              "      box-shadow: 0px 1px 3px 1px rgba(0, 0, 0, 0.15);\n",
              "      filter: drop-shadow(0px 1px 2px rgba(0, 0, 0, 0.3));\n",
              "      fill: #FFFFFF;\n",
              "    }\n",
              "  </style>\n",
              "\n",
              "    <script>\n",
              "      const buttonEl =\n",
              "        document.querySelector('#df-770f2a58-af52-4eee-b40e-61cd870a11a0 button.colab-df-convert');\n",
              "      buttonEl.style.display =\n",
              "        google.colab.kernel.accessAllowed ? 'block' : 'none';\n",
              "\n",
              "      async function convertToInteractive(key) {\n",
              "        const element = document.querySelector('#df-770f2a58-af52-4eee-b40e-61cd870a11a0');\n",
              "        const dataTable =\n",
              "          await google.colab.kernel.invokeFunction('convertToInteractive',\n",
              "                                                    [key], {});\n",
              "        if (!dataTable) return;\n",
              "\n",
              "        const docLinkHtml = 'Like what you see? Visit the ' +\n",
              "          '<a target=\"_blank\" href=https://colab.research.google.com/notebooks/data_table.ipynb>data table notebook</a>'\n",
              "          + ' to learn more about interactive tables.';\n",
              "        element.innerHTML = '';\n",
              "        dataTable['output_type'] = 'display_data';\n",
              "        await google.colab.output.renderOutput(dataTable, element);\n",
              "        const docLink = document.createElement('div');\n",
              "        docLink.innerHTML = docLinkHtml;\n",
              "        element.appendChild(docLink);\n",
              "      }\n",
              "    </script>\n",
              "  </div>\n",
              "\n",
              "\n",
              "<div id=\"df-c8e7b0cd-e484-4bcf-8669-f6a21f704ada\">\n",
              "  <button class=\"colab-df-quickchart\" onclick=\"quickchart('df-c8e7b0cd-e484-4bcf-8669-f6a21f704ada')\"\n",
              "            title=\"Suggest charts\"\n",
              "            style=\"display:none;\">\n",
              "\n",
              "<svg xmlns=\"http://www.w3.org/2000/svg\" height=\"24px\"viewBox=\"0 0 24 24\"\n",
              "     width=\"24px\">\n",
              "    <g>\n",
              "        <path d=\"M19 3H5c-1.1 0-2 .9-2 2v14c0 1.1.9 2 2 2h14c1.1 0 2-.9 2-2V5c0-1.1-.9-2-2-2zM9 17H7v-7h2v7zm4 0h-2V7h2v10zm4 0h-2v-4h2v4z\"/>\n",
              "    </g>\n",
              "</svg>\n",
              "  </button>\n",
              "\n",
              "<style>\n",
              "  .colab-df-quickchart {\n",
              "      --bg-color: #E8F0FE;\n",
              "      --fill-color: #1967D2;\n",
              "      --hover-bg-color: #E2EBFA;\n",
              "      --hover-fill-color: #174EA6;\n",
              "      --disabled-fill-color: #AAA;\n",
              "      --disabled-bg-color: #DDD;\n",
              "  }\n",
              "\n",
              "  [theme=dark] .colab-df-quickchart {\n",
              "      --bg-color: #3B4455;\n",
              "      --fill-color: #D2E3FC;\n",
              "      --hover-bg-color: #434B5C;\n",
              "      --hover-fill-color: #FFFFFF;\n",
              "      --disabled-bg-color: #3B4455;\n",
              "      --disabled-fill-color: #666;\n",
              "  }\n",
              "\n",
              "  .colab-df-quickchart {\n",
              "    background-color: var(--bg-color);\n",
              "    border: none;\n",
              "    border-radius: 50%;\n",
              "    cursor: pointer;\n",
              "    display: none;\n",
              "    fill: var(--fill-color);\n",
              "    height: 32px;\n",
              "    padding: 0;\n",
              "    width: 32px;\n",
              "  }\n",
              "\n",
              "  .colab-df-quickchart:hover {\n",
              "    background-color: var(--hover-bg-color);\n",
              "    box-shadow: 0 1px 2px rgba(60, 64, 67, 0.3), 0 1px 3px 1px rgba(60, 64, 67, 0.15);\n",
              "    fill: var(--button-hover-fill-color);\n",
              "  }\n",
              "\n",
              "  .colab-df-quickchart-complete:disabled,\n",
              "  .colab-df-quickchart-complete:disabled:hover {\n",
              "    background-color: var(--disabled-bg-color);\n",
              "    fill: var(--disabled-fill-color);\n",
              "    box-shadow: none;\n",
              "  }\n",
              "\n",
              "  .colab-df-spinner {\n",
              "    border: 2px solid var(--fill-color);\n",
              "    border-color: transparent;\n",
              "    border-bottom-color: var(--fill-color);\n",
              "    animation:\n",
              "      spin 1s steps(1) infinite;\n",
              "  }\n",
              "\n",
              "  @keyframes spin {\n",
              "    0% {\n",
              "      border-color: transparent;\n",
              "      border-bottom-color: var(--fill-color);\n",
              "      border-left-color: var(--fill-color);\n",
              "    }\n",
              "    20% {\n",
              "      border-color: transparent;\n",
              "      border-left-color: var(--fill-color);\n",
              "      border-top-color: var(--fill-color);\n",
              "    }\n",
              "    30% {\n",
              "      border-color: transparent;\n",
              "      border-left-color: var(--fill-color);\n",
              "      border-top-color: var(--fill-color);\n",
              "      border-right-color: var(--fill-color);\n",
              "    }\n",
              "    40% {\n",
              "      border-color: transparent;\n",
              "      border-right-color: var(--fill-color);\n",
              "      border-top-color: var(--fill-color);\n",
              "    }\n",
              "    60% {\n",
              "      border-color: transparent;\n",
              "      border-right-color: var(--fill-color);\n",
              "    }\n",
              "    80% {\n",
              "      border-color: transparent;\n",
              "      border-right-color: var(--fill-color);\n",
              "      border-bottom-color: var(--fill-color);\n",
              "    }\n",
              "    90% {\n",
              "      border-color: transparent;\n",
              "      border-bottom-color: var(--fill-color);\n",
              "    }\n",
              "  }\n",
              "</style>\n",
              "\n",
              "  <script>\n",
              "    async function quickchart(key) {\n",
              "      const quickchartButtonEl =\n",
              "        document.querySelector('#' + key + ' button');\n",
              "      quickchartButtonEl.disabled = true;  // To prevent multiple clicks.\n",
              "      quickchartButtonEl.classList.add('colab-df-spinner');\n",
              "      try {\n",
              "        const charts = await google.colab.kernel.invokeFunction(\n",
              "            'suggestCharts', [key], {});\n",
              "      } catch (error) {\n",
              "        console.error('Error during call to suggestCharts:', error);\n",
              "      }\n",
              "      quickchartButtonEl.classList.remove('colab-df-spinner');\n",
              "      quickchartButtonEl.classList.add('colab-df-quickchart-complete');\n",
              "    }\n",
              "    (() => {\n",
              "      let quickchartButtonEl =\n",
              "        document.querySelector('#df-c8e7b0cd-e484-4bcf-8669-f6a21f704ada button');\n",
              "      quickchartButtonEl.style.display =\n",
              "        google.colab.kernel.accessAllowed ? 'block' : 'none';\n",
              "    })();\n",
              "  </script>\n",
              "</div>\n",
              "\n",
              "    </div>\n",
              "  </div>\n"
            ]
          },
          "metadata": {},
          "execution_count": 111
        }
      ]
    },
    {
      "cell_type": "markdown",
      "source": [
        "This gives us a general Idea about the Dataset"
      ],
      "metadata": {
        "id": "cL60191tvaXz"
      }
    },
    {
      "cell_type": "code",
      "source": [
        "data.groupby('v1').describe()"
      ],
      "metadata": {
        "colab": {
          "base_uri": "https://localhost:8080/",
          "height": 175
        },
        "id": "Ce7-XwbOvbdH",
        "outputId": "e0a52e37-db21-4bef-c40a-693a75bd1e56"
      },
      "execution_count": 112,
      "outputs": [
        {
          "output_type": "execute_result",
          "data": {
            "text/plain": [
              "        v2                                                                 \\\n",
              "     count unique                                                top freq   \n",
              "v1                                                                          \n",
              "ham   4825   4516                             Sorry, I'll call later   30   \n",
              "spam   747    653  Please call our customer service representativ...    4   \n",
              "\n",
              "     Unnamed: 2                                                            \\\n",
              "          count unique                                                top   \n",
              "v1                                                                          \n",
              "ham          45     39   bt not his girlfrnd... G o o d n i g h t . . .@\"   \n",
              "spam          5      4                                        PO Box 5249   \n",
              "\n",
              "          Unnamed: 3                                    Unnamed: 4         \\\n",
              "     freq      count unique                    top freq      count unique   \n",
              "v1                                                                          \n",
              "ham     3         10      9                     GE    2          6      5   \n",
              "spam    2          2      1   MK17 92H. 450Ppw 16\"    2          0      0   \n",
              "\n",
              "                    \n",
              "          top freq  \n",
              "v1                  \n",
              "ham   GNT:-)\"    2  \n",
              "spam      NaN  NaN  "
            ],
            "text/html": [
              "\n",
              "  <div id=\"df-316a3092-ef96-44f4-a8b5-e247a534f0cb\" class=\"colab-df-container\">\n",
              "    <div>\n",
              "<style scoped>\n",
              "    .dataframe tbody tr th:only-of-type {\n",
              "        vertical-align: middle;\n",
              "    }\n",
              "\n",
              "    .dataframe tbody tr th {\n",
              "        vertical-align: top;\n",
              "    }\n",
              "\n",
              "    .dataframe thead tr th {\n",
              "        text-align: left;\n",
              "    }\n",
              "\n",
              "    .dataframe thead tr:last-of-type th {\n",
              "        text-align: right;\n",
              "    }\n",
              "</style>\n",
              "<table border=\"1\" class=\"dataframe\">\n",
              "  <thead>\n",
              "    <tr>\n",
              "      <th></th>\n",
              "      <th colspan=\"4\" halign=\"left\">v2</th>\n",
              "      <th colspan=\"4\" halign=\"left\">Unnamed: 2</th>\n",
              "      <th colspan=\"4\" halign=\"left\">Unnamed: 3</th>\n",
              "      <th colspan=\"4\" halign=\"left\">Unnamed: 4</th>\n",
              "    </tr>\n",
              "    <tr>\n",
              "      <th></th>\n",
              "      <th>count</th>\n",
              "      <th>unique</th>\n",
              "      <th>top</th>\n",
              "      <th>freq</th>\n",
              "      <th>count</th>\n",
              "      <th>unique</th>\n",
              "      <th>top</th>\n",
              "      <th>freq</th>\n",
              "      <th>count</th>\n",
              "      <th>unique</th>\n",
              "      <th>top</th>\n",
              "      <th>freq</th>\n",
              "      <th>count</th>\n",
              "      <th>unique</th>\n",
              "      <th>top</th>\n",
              "      <th>freq</th>\n",
              "    </tr>\n",
              "    <tr>\n",
              "      <th>v1</th>\n",
              "      <th></th>\n",
              "      <th></th>\n",
              "      <th></th>\n",
              "      <th></th>\n",
              "      <th></th>\n",
              "      <th></th>\n",
              "      <th></th>\n",
              "      <th></th>\n",
              "      <th></th>\n",
              "      <th></th>\n",
              "      <th></th>\n",
              "      <th></th>\n",
              "      <th></th>\n",
              "      <th></th>\n",
              "      <th></th>\n",
              "      <th></th>\n",
              "    </tr>\n",
              "  </thead>\n",
              "  <tbody>\n",
              "    <tr>\n",
              "      <th>ham</th>\n",
              "      <td>4825</td>\n",
              "      <td>4516</td>\n",
              "      <td>Sorry, I'll call later</td>\n",
              "      <td>30</td>\n",
              "      <td>45</td>\n",
              "      <td>39</td>\n",
              "      <td>bt not his girlfrnd... G o o d n i g h t . . .@\"</td>\n",
              "      <td>3</td>\n",
              "      <td>10</td>\n",
              "      <td>9</td>\n",
              "      <td>GE</td>\n",
              "      <td>2</td>\n",
              "      <td>6</td>\n",
              "      <td>5</td>\n",
              "      <td>GNT:-)\"</td>\n",
              "      <td>2</td>\n",
              "    </tr>\n",
              "    <tr>\n",
              "      <th>spam</th>\n",
              "      <td>747</td>\n",
              "      <td>653</td>\n",
              "      <td>Please call our customer service representativ...</td>\n",
              "      <td>4</td>\n",
              "      <td>5</td>\n",
              "      <td>4</td>\n",
              "      <td>PO Box 5249</td>\n",
              "      <td>2</td>\n",
              "      <td>2</td>\n",
              "      <td>1</td>\n",
              "      <td>MK17 92H. 450Ppw 16\"</td>\n",
              "      <td>2</td>\n",
              "      <td>0</td>\n",
              "      <td>0</td>\n",
              "      <td>NaN</td>\n",
              "      <td>NaN</td>\n",
              "    </tr>\n",
              "  </tbody>\n",
              "</table>\n",
              "</div>\n",
              "    <div class=\"colab-df-buttons\">\n",
              "\n",
              "  <div class=\"colab-df-container\">\n",
              "    <button class=\"colab-df-convert\" onclick=\"convertToInteractive('df-316a3092-ef96-44f4-a8b5-e247a534f0cb')\"\n",
              "            title=\"Convert this dataframe to an interactive table.\"\n",
              "            style=\"display:none;\">\n",
              "\n",
              "  <svg xmlns=\"http://www.w3.org/2000/svg\" height=\"24px\" viewBox=\"0 -960 960 960\">\n",
              "    <path d=\"M120-120v-720h720v720H120Zm60-500h600v-160H180v160Zm220 220h160v-160H400v160Zm0 220h160v-160H400v160ZM180-400h160v-160H180v160Zm440 0h160v-160H620v160ZM180-180h160v-160H180v160Zm440 0h160v-160H620v160Z\"/>\n",
              "  </svg>\n",
              "    </button>\n",
              "\n",
              "  <style>\n",
              "    .colab-df-container {\n",
              "      display:flex;\n",
              "      gap: 12px;\n",
              "    }\n",
              "\n",
              "    .colab-df-convert {\n",
              "      background-color: #E8F0FE;\n",
              "      border: none;\n",
              "      border-radius: 50%;\n",
              "      cursor: pointer;\n",
              "      display: none;\n",
              "      fill: #1967D2;\n",
              "      height: 32px;\n",
              "      padding: 0 0 0 0;\n",
              "      width: 32px;\n",
              "    }\n",
              "\n",
              "    .colab-df-convert:hover {\n",
              "      background-color: #E2EBFA;\n",
              "      box-shadow: 0px 1px 2px rgba(60, 64, 67, 0.3), 0px 1px 3px 1px rgba(60, 64, 67, 0.15);\n",
              "      fill: #174EA6;\n",
              "    }\n",
              "\n",
              "    .colab-df-buttons div {\n",
              "      margin-bottom: 4px;\n",
              "    }\n",
              "\n",
              "    [theme=dark] .colab-df-convert {\n",
              "      background-color: #3B4455;\n",
              "      fill: #D2E3FC;\n",
              "    }\n",
              "\n",
              "    [theme=dark] .colab-df-convert:hover {\n",
              "      background-color: #434B5C;\n",
              "      box-shadow: 0px 1px 3px 1px rgba(0, 0, 0, 0.15);\n",
              "      filter: drop-shadow(0px 1px 2px rgba(0, 0, 0, 0.3));\n",
              "      fill: #FFFFFF;\n",
              "    }\n",
              "  </style>\n",
              "\n",
              "    <script>\n",
              "      const buttonEl =\n",
              "        document.querySelector('#df-316a3092-ef96-44f4-a8b5-e247a534f0cb button.colab-df-convert');\n",
              "      buttonEl.style.display =\n",
              "        google.colab.kernel.accessAllowed ? 'block' : 'none';\n",
              "\n",
              "      async function convertToInteractive(key) {\n",
              "        const element = document.querySelector('#df-316a3092-ef96-44f4-a8b5-e247a534f0cb');\n",
              "        const dataTable =\n",
              "          await google.colab.kernel.invokeFunction('convertToInteractive',\n",
              "                                                    [key], {});\n",
              "        if (!dataTable) return;\n",
              "\n",
              "        const docLinkHtml = 'Like what you see? Visit the ' +\n",
              "          '<a target=\"_blank\" href=https://colab.research.google.com/notebooks/data_table.ipynb>data table notebook</a>'\n",
              "          + ' to learn more about interactive tables.';\n",
              "        element.innerHTML = '';\n",
              "        dataTable['output_type'] = 'display_data';\n",
              "        await google.colab.output.renderOutput(dataTable, element);\n",
              "        const docLink = document.createElement('div');\n",
              "        docLink.innerHTML = docLinkHtml;\n",
              "        element.appendChild(docLink);\n",
              "      }\n",
              "    </script>\n",
              "  </div>\n",
              "\n",
              "\n",
              "<div id=\"df-32f840a4-8840-44f3-b8c2-9f5d7f98ed2b\">\n",
              "  <button class=\"colab-df-quickchart\" onclick=\"quickchart('df-32f840a4-8840-44f3-b8c2-9f5d7f98ed2b')\"\n",
              "            title=\"Suggest charts\"\n",
              "            style=\"display:none;\">\n",
              "\n",
              "<svg xmlns=\"http://www.w3.org/2000/svg\" height=\"24px\"viewBox=\"0 0 24 24\"\n",
              "     width=\"24px\">\n",
              "    <g>\n",
              "        <path d=\"M19 3H5c-1.1 0-2 .9-2 2v14c0 1.1.9 2 2 2h14c1.1 0 2-.9 2-2V5c0-1.1-.9-2-2-2zM9 17H7v-7h2v7zm4 0h-2V7h2v10zm4 0h-2v-4h2v4z\"/>\n",
              "    </g>\n",
              "</svg>\n",
              "  </button>\n",
              "\n",
              "<style>\n",
              "  .colab-df-quickchart {\n",
              "      --bg-color: #E8F0FE;\n",
              "      --fill-color: #1967D2;\n",
              "      --hover-bg-color: #E2EBFA;\n",
              "      --hover-fill-color: #174EA6;\n",
              "      --disabled-fill-color: #AAA;\n",
              "      --disabled-bg-color: #DDD;\n",
              "  }\n",
              "\n",
              "  [theme=dark] .colab-df-quickchart {\n",
              "      --bg-color: #3B4455;\n",
              "      --fill-color: #D2E3FC;\n",
              "      --hover-bg-color: #434B5C;\n",
              "      --hover-fill-color: #FFFFFF;\n",
              "      --disabled-bg-color: #3B4455;\n",
              "      --disabled-fill-color: #666;\n",
              "  }\n",
              "\n",
              "  .colab-df-quickchart {\n",
              "    background-color: var(--bg-color);\n",
              "    border: none;\n",
              "    border-radius: 50%;\n",
              "    cursor: pointer;\n",
              "    display: none;\n",
              "    fill: var(--fill-color);\n",
              "    height: 32px;\n",
              "    padding: 0;\n",
              "    width: 32px;\n",
              "  }\n",
              "\n",
              "  .colab-df-quickchart:hover {\n",
              "    background-color: var(--hover-bg-color);\n",
              "    box-shadow: 0 1px 2px rgba(60, 64, 67, 0.3), 0 1px 3px 1px rgba(60, 64, 67, 0.15);\n",
              "    fill: var(--button-hover-fill-color);\n",
              "  }\n",
              "\n",
              "  .colab-df-quickchart-complete:disabled,\n",
              "  .colab-df-quickchart-complete:disabled:hover {\n",
              "    background-color: var(--disabled-bg-color);\n",
              "    fill: var(--disabled-fill-color);\n",
              "    box-shadow: none;\n",
              "  }\n",
              "\n",
              "  .colab-df-spinner {\n",
              "    border: 2px solid var(--fill-color);\n",
              "    border-color: transparent;\n",
              "    border-bottom-color: var(--fill-color);\n",
              "    animation:\n",
              "      spin 1s steps(1) infinite;\n",
              "  }\n",
              "\n",
              "  @keyframes spin {\n",
              "    0% {\n",
              "      border-color: transparent;\n",
              "      border-bottom-color: var(--fill-color);\n",
              "      border-left-color: var(--fill-color);\n",
              "    }\n",
              "    20% {\n",
              "      border-color: transparent;\n",
              "      border-left-color: var(--fill-color);\n",
              "      border-top-color: var(--fill-color);\n",
              "    }\n",
              "    30% {\n",
              "      border-color: transparent;\n",
              "      border-left-color: var(--fill-color);\n",
              "      border-top-color: var(--fill-color);\n",
              "      border-right-color: var(--fill-color);\n",
              "    }\n",
              "    40% {\n",
              "      border-color: transparent;\n",
              "      border-right-color: var(--fill-color);\n",
              "      border-top-color: var(--fill-color);\n",
              "    }\n",
              "    60% {\n",
              "      border-color: transparent;\n",
              "      border-right-color: var(--fill-color);\n",
              "    }\n",
              "    80% {\n",
              "      border-color: transparent;\n",
              "      border-right-color: var(--fill-color);\n",
              "      border-bottom-color: var(--fill-color);\n",
              "    }\n",
              "    90% {\n",
              "      border-color: transparent;\n",
              "      border-bottom-color: var(--fill-color);\n",
              "    }\n",
              "  }\n",
              "</style>\n",
              "\n",
              "  <script>\n",
              "    async function quickchart(key) {\n",
              "      const quickchartButtonEl =\n",
              "        document.querySelector('#' + key + ' button');\n",
              "      quickchartButtonEl.disabled = true;  // To prevent multiple clicks.\n",
              "      quickchartButtonEl.classList.add('colab-df-spinner');\n",
              "      try {\n",
              "        const charts = await google.colab.kernel.invokeFunction(\n",
              "            'suggestCharts', [key], {});\n",
              "      } catch (error) {\n",
              "        console.error('Error during call to suggestCharts:', error);\n",
              "      }\n",
              "      quickchartButtonEl.classList.remove('colab-df-spinner');\n",
              "      quickchartButtonEl.classList.add('colab-df-quickchart-complete');\n",
              "    }\n",
              "    (() => {\n",
              "      let quickchartButtonEl =\n",
              "        document.querySelector('#df-32f840a4-8840-44f3-b8c2-9f5d7f98ed2b button');\n",
              "      quickchartButtonEl.style.display =\n",
              "        google.colab.kernel.accessAllowed ? 'block' : 'none';\n",
              "    })();\n",
              "  </script>\n",
              "</div>\n",
              "\n",
              "    </div>\n",
              "  </div>\n"
            ]
          },
          "metadata": {},
          "execution_count": 112
        }
      ]
    },
    {
      "cell_type": "markdown",
      "source": [
        "This shows us how many Spam vd Normal Messages we have in the Dataset we have about 747 apam messages and 4825 messages which are not spam and 4516 is uniqe messages from there."
      ],
      "metadata": {
        "id": "WtmYwEQMwG8v"
      }
    },
    {
      "cell_type": "markdown",
      "source": [
        "# **Step 2**"
      ],
      "metadata": {
        "id": "_RgZOkGAwmHn"
      }
    },
    {
      "cell_type": "markdown",
      "source": [
        "Lets us extract some Features as well"
      ],
      "metadata": {
        "id": "myZxjZ15x8mw"
      }
    },
    {
      "cell_type": "code",
      "source": [
        "data[\"Length\"] = data[\"v2\"].apply(len)"
      ],
      "metadata": {
        "id": "9xy-YclswlwP"
      },
      "execution_count": 113,
      "outputs": []
    },
    {
      "cell_type": "code",
      "source": [
        "data.head(5)"
      ],
      "metadata": {
        "colab": {
          "base_uri": "https://localhost:8080/",
          "height": 206
        },
        "id": "yMo5qNkzyBco",
        "outputId": "9ed39187-5259-40a1-82fb-a04277415111"
      },
      "execution_count": 114,
      "outputs": [
        {
          "output_type": "execute_result",
          "data": {
            "text/plain": [
              "     v1                                                 v2 Unnamed: 2  \\\n",
              "0   ham  Go until jurong point, crazy.. Available only ...        NaN   \n",
              "1   ham                      Ok lar... Joking wif u oni...        NaN   \n",
              "2  spam  Free entry in 2 a wkly comp to win FA Cup fina...        NaN   \n",
              "3   ham  U dun say so early hor... U c already then say...        NaN   \n",
              "4   ham  Nah I don't think he goes to usf, he lives aro...        NaN   \n",
              "\n",
              "  Unnamed: 3 Unnamed: 4  Length  \n",
              "0        NaN        NaN     111  \n",
              "1        NaN        NaN      29  \n",
              "2        NaN        NaN     155  \n",
              "3        NaN        NaN      49  \n",
              "4        NaN        NaN      61  "
            ],
            "text/html": [
              "\n",
              "  <div id=\"df-5ab5b150-83ef-4849-b4ce-cf5c0b5f0ce5\" class=\"colab-df-container\">\n",
              "    <div>\n",
              "<style scoped>\n",
              "    .dataframe tbody tr th:only-of-type {\n",
              "        vertical-align: middle;\n",
              "    }\n",
              "\n",
              "    .dataframe tbody tr th {\n",
              "        vertical-align: top;\n",
              "    }\n",
              "\n",
              "    .dataframe thead th {\n",
              "        text-align: right;\n",
              "    }\n",
              "</style>\n",
              "<table border=\"1\" class=\"dataframe\">\n",
              "  <thead>\n",
              "    <tr style=\"text-align: right;\">\n",
              "      <th></th>\n",
              "      <th>v1</th>\n",
              "      <th>v2</th>\n",
              "      <th>Unnamed: 2</th>\n",
              "      <th>Unnamed: 3</th>\n",
              "      <th>Unnamed: 4</th>\n",
              "      <th>Length</th>\n",
              "    </tr>\n",
              "  </thead>\n",
              "  <tbody>\n",
              "    <tr>\n",
              "      <th>0</th>\n",
              "      <td>ham</td>\n",
              "      <td>Go until jurong point, crazy.. Available only ...</td>\n",
              "      <td>NaN</td>\n",
              "      <td>NaN</td>\n",
              "      <td>NaN</td>\n",
              "      <td>111</td>\n",
              "    </tr>\n",
              "    <tr>\n",
              "      <th>1</th>\n",
              "      <td>ham</td>\n",
              "      <td>Ok lar... Joking wif u oni...</td>\n",
              "      <td>NaN</td>\n",
              "      <td>NaN</td>\n",
              "      <td>NaN</td>\n",
              "      <td>29</td>\n",
              "    </tr>\n",
              "    <tr>\n",
              "      <th>2</th>\n",
              "      <td>spam</td>\n",
              "      <td>Free entry in 2 a wkly comp to win FA Cup fina...</td>\n",
              "      <td>NaN</td>\n",
              "      <td>NaN</td>\n",
              "      <td>NaN</td>\n",
              "      <td>155</td>\n",
              "    </tr>\n",
              "    <tr>\n",
              "      <th>3</th>\n",
              "      <td>ham</td>\n",
              "      <td>U dun say so early hor... U c already then say...</td>\n",
              "      <td>NaN</td>\n",
              "      <td>NaN</td>\n",
              "      <td>NaN</td>\n",
              "      <td>49</td>\n",
              "    </tr>\n",
              "    <tr>\n",
              "      <th>4</th>\n",
              "      <td>ham</td>\n",
              "      <td>Nah I don't think he goes to usf, he lives aro...</td>\n",
              "      <td>NaN</td>\n",
              "      <td>NaN</td>\n",
              "      <td>NaN</td>\n",
              "      <td>61</td>\n",
              "    </tr>\n",
              "  </tbody>\n",
              "</table>\n",
              "</div>\n",
              "    <div class=\"colab-df-buttons\">\n",
              "\n",
              "  <div class=\"colab-df-container\">\n",
              "    <button class=\"colab-df-convert\" onclick=\"convertToInteractive('df-5ab5b150-83ef-4849-b4ce-cf5c0b5f0ce5')\"\n",
              "            title=\"Convert this dataframe to an interactive table.\"\n",
              "            style=\"display:none;\">\n",
              "\n",
              "  <svg xmlns=\"http://www.w3.org/2000/svg\" height=\"24px\" viewBox=\"0 -960 960 960\">\n",
              "    <path d=\"M120-120v-720h720v720H120Zm60-500h600v-160H180v160Zm220 220h160v-160H400v160Zm0 220h160v-160H400v160ZM180-400h160v-160H180v160Zm440 0h160v-160H620v160ZM180-180h160v-160H180v160Zm440 0h160v-160H620v160Z\"/>\n",
              "  </svg>\n",
              "    </button>\n",
              "\n",
              "  <style>\n",
              "    .colab-df-container {\n",
              "      display:flex;\n",
              "      gap: 12px;\n",
              "    }\n",
              "\n",
              "    .colab-df-convert {\n",
              "      background-color: #E8F0FE;\n",
              "      border: none;\n",
              "      border-radius: 50%;\n",
              "      cursor: pointer;\n",
              "      display: none;\n",
              "      fill: #1967D2;\n",
              "      height: 32px;\n",
              "      padding: 0 0 0 0;\n",
              "      width: 32px;\n",
              "    }\n",
              "\n",
              "    .colab-df-convert:hover {\n",
              "      background-color: #E2EBFA;\n",
              "      box-shadow: 0px 1px 2px rgba(60, 64, 67, 0.3), 0px 1px 3px 1px rgba(60, 64, 67, 0.15);\n",
              "      fill: #174EA6;\n",
              "    }\n",
              "\n",
              "    .colab-df-buttons div {\n",
              "      margin-bottom: 4px;\n",
              "    }\n",
              "\n",
              "    [theme=dark] .colab-df-convert {\n",
              "      background-color: #3B4455;\n",
              "      fill: #D2E3FC;\n",
              "    }\n",
              "\n",
              "    [theme=dark] .colab-df-convert:hover {\n",
              "      background-color: #434B5C;\n",
              "      box-shadow: 0px 1px 3px 1px rgba(0, 0, 0, 0.15);\n",
              "      filter: drop-shadow(0px 1px 2px rgba(0, 0, 0, 0.3));\n",
              "      fill: #FFFFFF;\n",
              "    }\n",
              "  </style>\n",
              "\n",
              "    <script>\n",
              "      const buttonEl =\n",
              "        document.querySelector('#df-5ab5b150-83ef-4849-b4ce-cf5c0b5f0ce5 button.colab-df-convert');\n",
              "      buttonEl.style.display =\n",
              "        google.colab.kernel.accessAllowed ? 'block' : 'none';\n",
              "\n",
              "      async function convertToInteractive(key) {\n",
              "        const element = document.querySelector('#df-5ab5b150-83ef-4849-b4ce-cf5c0b5f0ce5');\n",
              "        const dataTable =\n",
              "          await google.colab.kernel.invokeFunction('convertToInteractive',\n",
              "                                                    [key], {});\n",
              "        if (!dataTable) return;\n",
              "\n",
              "        const docLinkHtml = 'Like what you see? Visit the ' +\n",
              "          '<a target=\"_blank\" href=https://colab.research.google.com/notebooks/data_table.ipynb>data table notebook</a>'\n",
              "          + ' to learn more about interactive tables.';\n",
              "        element.innerHTML = '';\n",
              "        dataTable['output_type'] = 'display_data';\n",
              "        await google.colab.output.renderOutput(dataTable, element);\n",
              "        const docLink = document.createElement('div');\n",
              "        docLink.innerHTML = docLinkHtml;\n",
              "        element.appendChild(docLink);\n",
              "      }\n",
              "    </script>\n",
              "  </div>\n",
              "\n",
              "\n",
              "<div id=\"df-4ccbb726-62cd-459a-8e39-f7fbfbb49248\">\n",
              "  <button class=\"colab-df-quickchart\" onclick=\"quickchart('df-4ccbb726-62cd-459a-8e39-f7fbfbb49248')\"\n",
              "            title=\"Suggest charts\"\n",
              "            style=\"display:none;\">\n",
              "\n",
              "<svg xmlns=\"http://www.w3.org/2000/svg\" height=\"24px\"viewBox=\"0 0 24 24\"\n",
              "     width=\"24px\">\n",
              "    <g>\n",
              "        <path d=\"M19 3H5c-1.1 0-2 .9-2 2v14c0 1.1.9 2 2 2h14c1.1 0 2-.9 2-2V5c0-1.1-.9-2-2-2zM9 17H7v-7h2v7zm4 0h-2V7h2v10zm4 0h-2v-4h2v4z\"/>\n",
              "    </g>\n",
              "</svg>\n",
              "  </button>\n",
              "\n",
              "<style>\n",
              "  .colab-df-quickchart {\n",
              "      --bg-color: #E8F0FE;\n",
              "      --fill-color: #1967D2;\n",
              "      --hover-bg-color: #E2EBFA;\n",
              "      --hover-fill-color: #174EA6;\n",
              "      --disabled-fill-color: #AAA;\n",
              "      --disabled-bg-color: #DDD;\n",
              "  }\n",
              "\n",
              "  [theme=dark] .colab-df-quickchart {\n",
              "      --bg-color: #3B4455;\n",
              "      --fill-color: #D2E3FC;\n",
              "      --hover-bg-color: #434B5C;\n",
              "      --hover-fill-color: #FFFFFF;\n",
              "      --disabled-bg-color: #3B4455;\n",
              "      --disabled-fill-color: #666;\n",
              "  }\n",
              "\n",
              "  .colab-df-quickchart {\n",
              "    background-color: var(--bg-color);\n",
              "    border: none;\n",
              "    border-radius: 50%;\n",
              "    cursor: pointer;\n",
              "    display: none;\n",
              "    fill: var(--fill-color);\n",
              "    height: 32px;\n",
              "    padding: 0;\n",
              "    width: 32px;\n",
              "  }\n",
              "\n",
              "  .colab-df-quickchart:hover {\n",
              "    background-color: var(--hover-bg-color);\n",
              "    box-shadow: 0 1px 2px rgba(60, 64, 67, 0.3), 0 1px 3px 1px rgba(60, 64, 67, 0.15);\n",
              "    fill: var(--button-hover-fill-color);\n",
              "  }\n",
              "\n",
              "  .colab-df-quickchart-complete:disabled,\n",
              "  .colab-df-quickchart-complete:disabled:hover {\n",
              "    background-color: var(--disabled-bg-color);\n",
              "    fill: var(--disabled-fill-color);\n",
              "    box-shadow: none;\n",
              "  }\n",
              "\n",
              "  .colab-df-spinner {\n",
              "    border: 2px solid var(--fill-color);\n",
              "    border-color: transparent;\n",
              "    border-bottom-color: var(--fill-color);\n",
              "    animation:\n",
              "      spin 1s steps(1) infinite;\n",
              "  }\n",
              "\n",
              "  @keyframes spin {\n",
              "    0% {\n",
              "      border-color: transparent;\n",
              "      border-bottom-color: var(--fill-color);\n",
              "      border-left-color: var(--fill-color);\n",
              "    }\n",
              "    20% {\n",
              "      border-color: transparent;\n",
              "      border-left-color: var(--fill-color);\n",
              "      border-top-color: var(--fill-color);\n",
              "    }\n",
              "    30% {\n",
              "      border-color: transparent;\n",
              "      border-left-color: var(--fill-color);\n",
              "      border-top-color: var(--fill-color);\n",
              "      border-right-color: var(--fill-color);\n",
              "    }\n",
              "    40% {\n",
              "      border-color: transparent;\n",
              "      border-right-color: var(--fill-color);\n",
              "      border-top-color: var(--fill-color);\n",
              "    }\n",
              "    60% {\n",
              "      border-color: transparent;\n",
              "      border-right-color: var(--fill-color);\n",
              "    }\n",
              "    80% {\n",
              "      border-color: transparent;\n",
              "      border-right-color: var(--fill-color);\n",
              "      border-bottom-color: var(--fill-color);\n",
              "    }\n",
              "    90% {\n",
              "      border-color: transparent;\n",
              "      border-bottom-color: var(--fill-color);\n",
              "    }\n",
              "  }\n",
              "</style>\n",
              "\n",
              "  <script>\n",
              "    async function quickchart(key) {\n",
              "      const quickchartButtonEl =\n",
              "        document.querySelector('#' + key + ' button');\n",
              "      quickchartButtonEl.disabled = true;  // To prevent multiple clicks.\n",
              "      quickchartButtonEl.classList.add('colab-df-spinner');\n",
              "      try {\n",
              "        const charts = await google.colab.kernel.invokeFunction(\n",
              "            'suggestCharts', [key], {});\n",
              "      } catch (error) {\n",
              "        console.error('Error during call to suggestCharts:', error);\n",
              "      }\n",
              "      quickchartButtonEl.classList.remove('colab-df-spinner');\n",
              "      quickchartButtonEl.classList.add('colab-df-quickchart-complete');\n",
              "    }\n",
              "    (() => {\n",
              "      let quickchartButtonEl =\n",
              "        document.querySelector('#df-4ccbb726-62cd-459a-8e39-f7fbfbb49248 button');\n",
              "      quickchartButtonEl.style.display =\n",
              "        google.colab.kernel.accessAllowed ? 'block' : 'none';\n",
              "    })();\n",
              "  </script>\n",
              "</div>\n",
              "\n",
              "    </div>\n",
              "  </div>\n"
            ]
          },
          "metadata": {},
          "execution_count": 114
        }
      ]
    },
    {
      "cell_type": "markdown",
      "source": [
        "This will help our model to have more features so it can predict based on length of messages"
      ],
      "metadata": {
        "id": "TxI0Xk7DylgM"
      }
    },
    {
      "cell_type": "code",
      "source": [
        "sns.distplot(data[\"Length\"], bins=30)"
      ],
      "metadata": {
        "colab": {
          "base_uri": "https://localhost:8080/",
          "height": 692
        },
        "id": "hfmABPTjympU",
        "outputId": "1a5908e0-96bb-42bd-afda-c0f1c3b31621"
      },
      "execution_count": 115,
      "outputs": [
        {
          "output_type": "stream",
          "name": "stderr",
          "text": [
            "<ipython-input-115-ae892d7012be>:1: UserWarning:\n",
            "\n",
            "\n",
            "\n",
            "`distplot` is a deprecated function and will be removed in seaborn v0.14.0.\n",
            "\n",
            "Please adapt your code to use either `displot` (a figure-level function with\n",
            "similar flexibility) or `histplot` (an axes-level function for histograms).\n",
            "\n",
            "For a guide to updating your code to use the new functions, please see\n",
            "https://gist.github.com/mwaskom/de44147ed2974457ad6372750bbe5751\n",
            "\n",
            "\n"
          ]
        },
        {
          "output_type": "execute_result",
          "data": {
            "text/plain": [
              "<Axes: xlabel='Length', ylabel='Density'>"
            ]
          },
          "metadata": {},
          "execution_count": 115
        },
        {
          "output_type": "display_data",
          "data": {
            "text/plain": [
              "<Figure size 640x480 with 1 Axes>"
            ],
            "image/png": "[encoded data removed]"
          },
          "metadata": {}
        }
      ]
    },
    {
      "cell_type": "markdown",
      "source": [
        "This tell us distribtion of length(v1) of messages."
      ],
      "metadata": {
        "id": "GeG-ip_kyzaJ"
      }
    },
    {
      "cell_type": "markdown",
      "source": [
        "# **Questions**\n",
        "what is Maximum Length of Message some one sent and what is that message"
      ],
      "metadata": {
        "id": "Ay3dyqFJy3Dp"
      }
    },
    {
      "cell_type": "code",
      "source": [
        "data[\"Length\"].max()"
      ],
      "metadata": {
        "colab": {
          "base_uri": "https://localhost:8080/"
        },
        "id": "Q2ucWOYRzCyb",
        "outputId": "dbc49697-8be7-41ae-a140-8c574b12af5c"
      },
      "execution_count": 116,
      "outputs": [
        {
          "output_type": "execute_result",
          "data": {
            "text/plain": [
              "910"
            ]
          },
          "metadata": {},
          "execution_count": 116
        }
      ]
    },
    {
      "cell_type": "code",
      "source": [
        "data[data[\"Length\"]==910][\"v2\"].iloc[0]"
      ],
      "metadata": {
        "colab": {
          "base_uri": "https://localhost:8080/",
          "height": 87
        },
        "id": "FTHsMYyjzHC0",
        "outputId": "03a475e2-baf4-4d5c-a4a2-52ccdd550e13"
      },
      "execution_count": 117,
      "outputs": [
        {
          "output_type": "execute_result",
          "data": {
            "text/plain": [
              "\"For me the love should start with attraction.i should feel that I need her every time around me.she should be the first thing which comes in my thoughts.I would start the day and end it with her.she should be there every time I dream.love will be then when my every breath has her name.my life should happen around her.my life will be named to her.I would cry for her.will give all my happiness and take all her sorrows.I will be ready to fight with anyone for her.I will be in love when I will be doing the craziest things for her.love will be when I don't have to proove anyone that my girl is the most beautiful lady on the whole planet.I will always be singing praises for her.love will be when I start up making chicken curry and end up makiing sambar.life will be the most beautiful then.will get every morning and thank god for the day because she is with me.I would like to say a lot..will tell later..\""
            ],
            "application/vnd.google.colaboratory.intrinsic+json": {
              "type": "string"
            }
          },
          "metadata": {},
          "execution_count": 117
        }
      ]
    },
    {
      "cell_type": "markdown",
      "source": [
        "Conclusion: The Maximum Length of message is 910 and it seems to be a love letter Lol !"
      ],
      "metadata": {
        "id": "AvyM9yyLzWdV"
      }
    },
    {
      "cell_type": "markdown",
      "source": [
        "what is Mininum Length of Message some one sent and what is that message"
      ],
      "metadata": {
        "id": "5PnvXqHKzbI-"
      }
    },
    {
      "cell_type": "code",
      "source": [
        "data[data[\"Length\"] == data[\"Length\"].min()][\"v2\"].iloc[0]"
      ],
      "metadata": {
        "colab": {
          "base_uri": "https://localhost:8080/",
          "height": 35
        },
        "id": "nKPOJ1M2zQsJ",
        "outputId": "df22bc8a-f868-44b4-d6b6-b7c5b9fc3c39"
      },
      "execution_count": 118,
      "outputs": [
        {
          "output_type": "execute_result",
          "data": {
            "text/plain": [
              "'Ok'"
            ],
            "application/vnd.google.colaboratory.intrinsic+json": {
              "type": "string"
            }
          },
          "metadata": {},
          "execution_count": 118
        }
      ]
    },
    {
      "cell_type": "markdown",
      "source": [
        "Conclusion: The Mininum Length of message is 2 and it seems to be just OK"
      ],
      "metadata": {
        "id": "pVPmp72Vzsns"
      }
    },
    {
      "cell_type": "code",
      "source": [
        "data.head(1)"
      ],
      "metadata": {
        "colab": {
          "base_uri": "https://localhost:8080/",
          "height": 81
        },
        "id": "Po7YVrLjzog6",
        "outputId": "74c611e9-49ad-4f41-a360-ee7c6ac59ef0"
      },
      "execution_count": 119,
      "outputs": [
        {
          "output_type": "execute_result",
          "data": {
            "text/plain": [
              "    v1                                                 v2 Unnamed: 2  \\\n",
              "0  ham  Go until jurong point, crazy.. Available only ...        NaN   \n",
              "\n",
              "  Unnamed: 3 Unnamed: 4  Length  \n",
              "0        NaN        NaN     111  "
            ],
            "text/html": [
              "\n",
              "  <div id=\"df-db1c2f0e-87c2-43e0-b3c1-69f807f171a1\" class=\"colab-df-container\">\n",
              "    <div>\n",
              "<style scoped>\n",
              "    .dataframe tbody tr th:only-of-type {\n",
              "        vertical-align: middle;\n",
              "    }\n",
              "\n",
              "    .dataframe tbody tr th {\n",
              "        vertical-align: top;\n",
              "    }\n",
              "\n",
              "    .dataframe thead th {\n",
              "        text-align: right;\n",
              "    }\n",
              "</style>\n",
              "<table border=\"1\" class=\"dataframe\">\n",
              "  <thead>\n",
              "    <tr style=\"text-align: right;\">\n",
              "      <th></th>\n",
              "      <th>v1</th>\n",
              "      <th>v2</th>\n",
              "      <th>Unnamed: 2</th>\n",
              "      <th>Unnamed: 3</th>\n",
              "      <th>Unnamed: 4</th>\n",
              "      <th>Length</th>\n",
              "    </tr>\n",
              "  </thead>\n",
              "  <tbody>\n",
              "    <tr>\n",
              "      <th>0</th>\n",
              "      <td>ham</td>\n",
              "      <td>Go until jurong point, crazy.. Available only ...</td>\n",
              "      <td>NaN</td>\n",
              "      <td>NaN</td>\n",
              "      <td>NaN</td>\n",
              "      <td>111</td>\n",
              "    </tr>\n",
              "  </tbody>\n",
              "</table>\n",
              "</div>\n",
              "    <div class=\"colab-df-buttons\">\n",
              "\n",
              "  <div class=\"colab-df-container\">\n",
              "    <button class=\"colab-df-convert\" onclick=\"convertToInteractive('df-db1c2f0e-87c2-43e0-b3c1-69f807f171a1')\"\n",
              "            title=\"Convert this dataframe to an interactive table.\"\n",
              "            style=\"display:none;\">\n",
              "\n",
              "  <svg xmlns=\"http://www.w3.org/2000/svg\" height=\"24px\" viewBox=\"0 -960 960 960\">\n",
              "    <path d=\"M120-120v-720h720v720H120Zm60-500h600v-160H180v160Zm220 220h160v-160H400v160Zm0 220h160v-160H400v160ZM180-400h160v-160H180v160Zm440 0h160v-160H620v160ZM180-180h160v-160H180v160Zm440 0h160v-160H620v160Z\"/>\n",
              "  </svg>\n",
              "    </button>\n",
              "\n",
              "  <style>\n",
              "    .colab-df-container {\n",
              "      display:flex;\n",
              "      gap: 12px;\n",
              "    }\n",
              "\n",
              "    .colab-df-convert {\n",
              "      background-color: #E8F0FE;\n",
              "      border: none;\n",
              "      border-radius: 50%;\n",
              "      cursor: pointer;\n",
              "      display: none;\n",
              "      fill: #1967D2;\n",
              "      height: 32px;\n",
              "      padding: 0 0 0 0;\n",
              "      width: 32px;\n",
              "    }\n",
              "\n",
              "    .colab-df-convert:hover {\n",
              "      background-color: #E2EBFA;\n",
              "      box-shadow: 0px 1px 2px rgba(60, 64, 67, 0.3), 0px 1px 3px 1px rgba(60, 64, 67, 0.15);\n",
              "      fill: #174EA6;\n",
              "    }\n",
              "\n",
              "    .colab-df-buttons div {\n",
              "      margin-bottom: 4px;\n",
              "    }\n",
              "\n",
              "    [theme=dark] .colab-df-convert {\n",
              "      background-color: #3B4455;\n",
              "      fill: #D2E3FC;\n",
              "    }\n",
              "\n",
              "    [theme=dark] .colab-df-convert:hover {\n",
              "      background-color: #434B5C;\n",
              "      box-shadow: 0px 1px 3px 1px rgba(0, 0, 0, 0.15);\n",
              "      filter: drop-shadow(0px 1px 2px rgba(0, 0, 0, 0.3));\n",
              "      fill: #FFFFFF;\n",
              "    }\n",
              "  </style>\n",
              "\n",
              "    <script>\n",
              "      const buttonEl =\n",
              "        document.querySelector('#df-db1c2f0e-87c2-43e0-b3c1-69f807f171a1 button.colab-df-convert');\n",
              "      buttonEl.style.display =\n",
              "        google.colab.kernel.accessAllowed ? 'block' : 'none';\n",
              "\n",
              "      async function convertToInteractive(key) {\n",
              "        const element = document.querySelector('#df-db1c2f0e-87c2-43e0-b3c1-69f807f171a1');\n",
              "        const dataTable =\n",
              "          await google.colab.kernel.invokeFunction('convertToInteractive',\n",
              "                                                    [key], {});\n",
              "        if (!dataTable) return;\n",
              "\n",
              "        const docLinkHtml = 'Like what you see? Visit the ' +\n",
              "          '<a target=\"_blank\" href=https://colab.research.google.com/notebooks/data_table.ipynb>data table notebook</a>'\n",
              "          + ' to learn more about interactive tables.';\n",
              "        element.innerHTML = '';\n",
              "        dataTable['output_type'] = 'display_data';\n",
              "        await google.colab.output.renderOutput(dataTable, element);\n",
              "        const docLink = document.createElement('div');\n",
              "        docLink.innerHTML = docLinkHtml;\n",
              "        element.appendChild(docLink);\n",
              "      }\n",
              "    </script>\n",
              "  </div>\n",
              "\n",
              "\n",
              "    </div>\n",
              "  </div>\n"
            ]
          },
          "metadata": {},
          "execution_count": 119
        }
      ]
    },
    {
      "cell_type": "code",
      "source": [
        "sns.barplot(x='v1', y='Length', data=data)"
      ],
      "metadata": {
        "colab": {
          "base_uri": "https://localhost:8080/",
          "height": 466
        },
        "id": "YbWL87nn64KU",
        "outputId": "762e41b5-3144-41c7-dfaa-8c788b2ef0d8"
      },
      "execution_count": 120,
      "outputs": [
        {
          "output_type": "execute_result",
          "data": {
            "text/plain": [
              "<Axes: xlabel='v1', ylabel='Length'>"
            ]
          },
          "metadata": {},
          "execution_count": 120
        },
        {
          "output_type": "display_data",
          "data": {
            "text/plain": [
              "<Figure size 640x480 with 1 Axes>"
            ],
            "image/png": "[encoded data removed]"
          },
          "metadata": {}
        }
      ]
    },
    {
      "cell_type": "code",
      "source": [
        "import plotly.express as px\n",
        "\n",
        "fig = px.histogram(data, x='Length', color='v1', nbins=100)\n",
        "fig.show()"
      ],
      "metadata": {
        "colab": {
          "base_uri": "https://localhost:8080/",
          "height": 542
        },
        "id": "GYpJEm6g50GY",
        "outputId": "b5ed26bc-11b4-420e-fc32-1b0e8106fe83"
      },
      "execution_count": 121,
      "outputs": [
        {
          "output_type": "display_data",
          "data": {
            "text/html": [
              "<html>\n",
              "<head><meta charset=\"utf-8\" /></head>\n",
              "<body>\n",
              "    <div>            <script src=\"https://cdnjs.cloudflare.com/ajax/libs/mathjax/2.7.5/MathJax.js?config=TeX-AMS-MML_SVG\"></script><script type=\"text/javascript\">if (window.MathJax && window.MathJax.Hub && window.MathJax.Hub.Config) {window.MathJax.Hub.Config({SVG: {font: \"STIX-Web\"}});}</script>                <script type=\"text/javascript\">window.PlotlyConfig = {MathJaxConfig: 'local'};</script>\n",
              "        <script charset=\"utf-8\" src=\"https://cdn.plot.ly/plotly-2.24.1.min.js\"></script>                <div id=\"18a0b13e-f9b1-4f05-8479-04206bade760\" class=\"plotly-graph-div\" style=\"height:525px; width:100%;\"></div>            <script type=\"text/javascript\">                                    window.PLOTLYENV=window.PLOTLYENV || {};                                    if (document.getElementById(\"18a0b13e-f9b1-4f05-8479-04206bade760\")) {                    Plotly.newPlot(                        \"18a0b13e-f9b1-4f05-8479-04206bade760\",                        [{\"alignmentgroup\":\"True\",\"bingroup\":\"x\",\"hovertemplate\":\"v1=ham\\u003cbr\\u003eLength=%{x}\\u003cbr\\u003ecount=%{y}\\u003cextra\\u003e\\u003c\\u002fextra\\u003e\",\"legendgroup\":\"ham\",\"marker\":{\"color\":\"#636efa\",\"pattern\":{\"shape\":\"\"}},\"name\":\"ham\",\"nbinsx\":100,\"offsetgroup\":\"ham\",\"orientation\":\"v\",\"showlegend\":true,\"x\":[111,29,49,61,77,160,109,196,35,26,81,58,41,49,53,88,57,144,30,134,75,64,130,189,29,84,123,47,28,27,155,82,142,19,72,32,45,31,67,148,58,124,80,291,76,34,22,40,108,48,25,56,110,124,34,46,29,45,42,20,43,73,50,42,76,22,32,32,36,14,55,121,144,42,41,62,195,141,107,33,51,184,57,81,76,160,183,44,95,43,82,115,30,40,31,96,143,156,72,86,53,52,40,20,244,22,107,28,9,39,25,38,34,46,86,33,27,158,42,25,48,84,33,30,45,59,25,160,384,28,27,157,115,64,85,51,74,67,59,50,94,33,105,61,65,26,146,66,126,159,23,65,24,26,152,34,55,88,185,37,111,92,28,28,64,131,40,28,84,174,24,25,64,156,28,86,39,73,26,23,24,31,58,48,41,32,159,25,161,22,119,69,30,165,34,109,37,33,48,50,65,38,145,51,45,83,155,37,78,30,31,146,44,179,27,179,38,97,43,36,74,3,85,51,26,35,47,47,53,147,37,31,8,38,30,47,56,22,19,29,7,121,58,4,148,160,152,37,55,21,22,50,67,153,51,67,88,157,91,24,57,26,71,55,156,119,142,41,26,119,46,23,51,62,107,157,30,32,31,79,32,86,22,76,232,45,57,26,22,41,28,151,29,34,52,33,85,31,78,50,63,148,129,45,202,168,85,38,15,31,88,160,50,26,31,129,34,54,162,23,53,131,36,143,300,59,42,41,22,31,30,47,25,80,22,115,56,102,118,221,204,114,39,36,48,77,60,168,51,22,152,75,30,95,24,35,29,66,48,24,248,25,27,37,69,150,24,80,25,73,89,58,36,76,47,104,38,69,22,66,94,70,73,42,17,13,45,57,105,47,117,158,79,142,62,71,29,29,148,83,37,44,45,50,298,125,51,28,34,46,81,28,90,18,54,55,45,40,107,50,120,32,34,32,16,67,55,43,23,149,21,23,40,117,62,166,24,136,99,45,23,25,26,168,117,46,26,28,32,57,42,36,50,33,15,177,160,63,84,84,57,169,76,47,130,23,149,32,22,101,281,54,120,138,135,66,40,40,70,160,26,32,51,146,103,45,142,92,26,134,37,22,22,33,109,36,140,51,46,63,95,69,110,55,27,34,24,147,24,29,87,38,104,59,38,38,22,25,87,19,66,156,22,107,65,149,137,25,60,103,37,58,87,58,123,67,66,102,35,8,62,58,20,100,51,36,53,88,133,36,37,127,92,80,35,66,119,65,26,28,45,157,36,94,140,22,57,43,61,56,54,37,25,21,36,153,46,34,80,69,24,108,46,30,22,87,30,143,169,42,18,109,76,73,92,36,54,78,30,40,29,22,77,109,75,76,30,49,269,195,125,48,39,121,162,29,38,25,40,226,70,140,47,63,17,41,80,137,103,29,51,25,149,38,62,181,34,47,40,110,101,42,27,31,82,23,59,133,33,95,135,151,75,103,22,51,137,58,89,81,57,26,32,145,122,143,23,136,94,8,65,71,117,28,150,31,72,70,94,48,98,31,43,71,25,22,48,33,44,47,26,112,19,48,107,38,27,129,131,23,25,42,27,22,98,89,130,215,26,66,372,82,73,76,24,231,87,72,105,54,58,54,118,88,29,136,23,39,35,24,95,73,45,159,92,102,31,77,139,44,276,78,27,79,24,52,68,24,44,24,55,62,104,87,150,49,154,56,126,43,77,49,84,49,79,31,146,23,160,62,39,67,73,148,88,37,23,56,53,73,80,44,92,35,23,106,103,34,77,26,47,24,133,126,78,116,221,59,143,24,38,42,24,159,47,122,126,26,114,7,34,92,90,22,85,63,220,41,60,88,31,37,28,24,118,22,210,50,49,87,61,54,28,49,53,145,162,53,12,142,73,129,33,47,72,148,107,41,23,104,45,26,37,132,63,108,93,43,46,56,37,124,38,53,31,224,24,24,52,48,28,43,49,26,58,17,26,127,103,157,34,128,143,51,60,30,41,103,19,114,78,41,46,136,46,157,24,17,20,84,63,155,122,50,25,44,65,21,47,135,39,83,44,28,24,67,67,33,24,119,910,158,35,24,53,72,19,188,71,23,160,73,106,80,105,43,68,32,159,140,101,31,23,58,37,61,60,54,69,72,40,36,35,34,79,114,64,25,22,35,156,58,31,24,17,152,41,80,85,115,25,45,70,22,43,22,22,72,91,70,140,31,52,40,23,145,54,43,30,39,71,146,73,23,26,59,150,167,26,66,35,26,26,49,38,36,18,48,68,73,49,13,63,133,13,74,48,138,164,40,20,61,61,130,37,31,27,41,49,52,124,63,85,70,55,119,22,43,46,75,43,31,76,51,27,34,129,136,24,33,63,96,53,59,52,45,34,53,111,60,152,55,84,87,84,26,58,46,43,24,97,70,179,54,26,156,47,48,40,81,116,5,81,20,13,37,66,69,55,45,160,25,28,40,156,138,24,70,62,86,174,48,48,25,54,38,46,64,133,36,132,51,48,62,48,39,103,83,84,39,122,154,36,5,30,57,54,34,85,139,35,31,48,94,27,28,41,42,150,162,82,45,56,41,23,112,38,160,32,47,82,25,51,22,30,121,53,84,24,81,152,131,327,49,65,29,207,114,49,108,36,32,50,80,141,23,40,25,22,155,72,203,278,115,27,139,46,115,155,35,82,7,36,73,24,49,48,155,93,99,155,48,42,24,30,44,24,34,144,179,52,82,39,80,35,82,41,27,32,33,41,5,126,153,141,124,38,63,47,22,115,71,34,72,134,26,38,25,27,159,107,13,25,65,33,23,53,104,149,144,51,114,131,174,42,153,37,61,74,93,141,85,78,33,90,147,33,32,5,149,22,132,154,31,51,18,172,76,78,112,58,158,60,154,34,26,31,26,64,179,56,148,90,110,458,36,28,33,51,45,37,39,96,15,29,32,152,29,36,54,29,47,172,32,22,91,53,24,121,36,212,25,59,155,37,79,24,50,75,41,8,36,31,73,127,14,97,73,92,63,58,46,26,143,29,31,156,37,63,33,104,58,62,184,611,61,62,64,47,92,22,338,86,159,30,105,148,30,52,152,43,35,47,25,127,25,143,128,24,43,99,152,37,32,3,28,55,28,121,29,115,39,154,148,44,156,25,41,83,45,73,158,47,159,165,37,41,136,24,35,25,31,36,132,156,30,118,82,147,75,22,90,61,28,42,75,27,14,129,73,88,27,75,11,23,25,81,51,40,156,124,18,6,126,46,30,35,32,23,42,99,96,74,72,76,60,5,31,77,33,25,126,71,75,68,144,59,60,49,66,24,58,107,53,73,149,144,63,159,39,67,131,24,136,34,27,55,27,39,36,23,51,34,34,74,146,32,160,86,32,166,22,26,92,37,46,62,39,50,35,21,107,38,205,158,67,121,26,68,123,61,33,156,41,50,41,153,22,53,62,159,34,151,26,27,52,100,164,39,32,158,120,42,46,44,123,24,29,34,29,47,47,115,37,64,83,124,24,89,67,44,33,28,37,76,150,45,84,24,119,332,80,24,34,65,27,24,53,28,22,23,191,75,23,29,37,40,93,107,52,71,54,51,98,89,50,163,135,32,41,58,50,790,34,35,100,46,183,71,30,34,75,55,33,97,33,64,23,32,128,45,62,85,32,89,63,28,41,110,53,31,27,79,22,40,59,54,84,15,106,30,108,92,87,16,51,50,63,34,160,29,41,68,91,2,66,135,30,35,35,25,23,32,76,45,106,55,124,46,120,72,57,54,49,51,29,37,67,41,92,30,68,46,87,95,23,34,59,158,73,76,65,58,14,27,143,53,52,31,39,83,34,22,89,61,150,123,24,32,22,49,108,119,34,38,26,32,31,117,45,55,38,80,54,62,52,81,36,431,62,375,160,52,138,42,63,22,38,50,83,84,39,76,53,94,38,38,75,62,59,23,37,45,51,24,43,123,43,36,46,35,59,32,50,27,40,37,84,125,45,32,52,39,32,52,40,96,31,276,51,26,36,99,44,23,63,60,41,133,27,42,40,17,81,38,48,35,13,363,40,47,154,31,11,44,88,47,64,24,95,134,23,32,175,38,35,147,51,107,38,60,37,157,185,28,159,79,40,113,30,42,41,113,382,87,49,27,28,26,49,39,38,31,162,25,154,22,34,45,70,77,32,50,30,114,588,114,114,50,141,158,56,29,39,32,37,63,29,48,59,29,24,31,37,193,45,154,3,32,131,52,142,104,43,73,105,54,108,77,42,132,42,22,30,38,54,56,66,65,93,132,112,22,68,119,58,60,54,45,66,67,77,76,77,175,77,102,39,32,30,108,141,130,58,28,77,136,88,127,110,51,30,25,96,64,23,70,31,113,110,36,28,23,45,54,39,154,36,64,36,71,51,17,22,26,144,63,22,89,42,28,135,78,33,27,52,29,33,23,85,101,110,27,58,44,26,91,125,25,69,72,48,28,66,127,62,26,78,23,85,34,41,134,25,30,45,5,23,93,7,24,129,45,65,48,18,24,33,25,51,96,69,25,108,51,65,141,7,41,67,30,37,47,36,29,36,281,27,52,66,121,56,92,66,43,127,43,450,102,88,103,24,95,74,158,482,53,121,31,22,22,38,22,91,66,191,27,67,104,96,38,40,25,24,26,39,54,73,80,21,53,444,41,99,34,27,116,24,75,47,81,115,52,83,41,22,46,57,45,67,26,100,53,632,235,26,114,45,78,51,82,28,85,46,183,22,109,28,25,23,74,50,28,44,88,25,29,39,46,64,15,126,105,49,30,23,84,67,14,68,37,26,84,29,22,201,137,33,101,45,124,84,42,78,70,121,81,42,245,66,139,167,51,55,31,36,28,306,202,160,36,20,6,5,150,74,19,153,45,54,22,22,67,42,179,22,82,22,163,46,158,32,71,34,104,9,95,29,155,24,41,106,32,112,47,28,30,289,80,70,122,59,58,21,27,35,31,66,65,95,32,23,36,55,140,144,30,28,83,40,32,61,116,36,36,37,54,46,65,37,39,44,82,23,155,153,44,117,55,126,109,65,16,50,46,4,35,99,57,136,56,62,25,38,46,32,49,243,42,41,51,81,9,136,9,25,27,45,115,65,139,28,30,53,59,44,26,85,23,27,47,49,126,32,22,107,46,96,157,50,63,29,87,27,33,33,27,26,5,33,34,29,30,140,34,117,45,27,153,41,136,56,64,50,444,27,106,66,54,88,4,54,56,27,95,95,52,80,63,73,169,169,57,56,113,50,23,24,179,101,54,96,59,166,14,46,9,46,84,71,20,44,46,35,28,53,82,26,48,29,41,99,55,22,15,119,154,25,29,29,28,89,56,53,37,26,129,69,21,89,37,39,102,42,63,50,163,200,41,38,26,29,16,23,46,31,28,118,29,63,106,121,44,22,22,116,78,59,43,124,45,142,32,69,79,149,63,155,29,145,22,32,10,61,57,36,52,163,133,55,57,68,123,111,37,74,47,9,149,44,23,26,35,29,131,28,23,52,53,131,11,27,88,166,42,32,588,74,39,26,57,54,94,276,82,160,151,60,51,138,104,75,29,142,40,166,130,15,31,52,234,50,103,25,49,47,27,77,28,34,22,95,22,54,67,73,56,32,25,66,43,121,55,126,27,141,111,125,6,142,46,32,89,64,77,47,42,29,37,86,47,33,23,67,32,31,25,11,129,33,30,183,156,47,32,137,101,59,43,95,142,38,327,29,36,87,35,62,32,24,112,57,26,110,147,32,151,44,30,94,28,164,38,46,23,269,65,24,42,45,54,26,60,141,153,35,32,143,60,96,30,126,41,30,157,71,112,43,14,49,47,42,26,23,30,108,119,37,75,46,51,461,127,44,34,72,30,27,48,90,52,47,22,41,37,173,95,69,27,47,93,32,48,63,75,295,39,120,43,169,101,32,150,40,85,2,135,49,32,29,24,74,242,40,66,25,26,27,23,38,34,55,46,22,42,35,53,112,39,38,129,67,147,61,38,82,15,153,42,155,50,52,54,49,67,139,110,37,40,25,113,28,48,58,66,26,297,148,149,154,36,35,31,70,33,35,23,76,24,41,48,59,53,19,51,122,53,22,155,25,39,119,104,45,18,19,30,91,156,45,42,36,113,141,38,43,29,61,5,33,41,60,44,32,87,66,148,56,148,55,35,31,38,59,27,55,30,33,92,59,160,130,112,52,65,59,23,41,137,35,69,68,68,49,96,46,47,50,28,110,97,46,90,13,41,65,134,145,131,33,14,105,42,40,47,80,72,150,33,33,32,281,44,102,34,73,149,20,22,92,86,28,40,90,47,66,63,147,47,151,37,41,32,24,29,50,35,38,41,118,57,115,51,82,29,23,72,72,33,111,34,86,121,61,14,120,78,50,27,444,79,84,62,33,68,107,37,132,69,85,38,114,151,80,80,158,35,165,42,153,320,93,148,50,72,55,158,54,113,70,77,72,33,32,91,22,148,145,126,28,52,36,126,47,27,41,129,83,41,28,34,39,54,90,35,34,91,52,45,54,77,22,22,368,28,82,55,68,29,115,67,96,25,104,44,18,47,22,31,39,40,69,79,117,38,65,23,3,151,58,24,31,33,54,60,9,71,28,41,29,34,31,11,129,11,28,47,59,31,143,44,65,22,84,160,120,131,40,52,34,23,29,48,38,31,86,34,58,193,34,124,152,65,105,51,29,25,78,30,135,44,91,142,49,54,19,34,107,24,274,118,158,28,127,52,131,155,73,8,57,106,56,49,27,176,92,31,38,156,66,180,63,59,25,24,149,165,63,32,29,35,22,105,3,126,31,75,121,75,95,114,26,48,25,38,7,36,189,125,55,38,29,46,62,32,194,287,37,42,70,77,115,15,49,53,92,33,87,36,134,22,26,24,97,153,139,45,69,40,30,40,84,25,140,73,85,69,23,25,24,30,28,43,39,83,73,47,322,59,42,31,30,36,29,59,154,47,87,126,128,12,53,41,176,99,72,123,69,39,17,22,48,38,30,38,25,28,46,72,41,31,59,28,30,131,55,32,138,125,13,81,155,74,34,84,190,42,37,38,87,43,73,65,36,38,27,21,73,191,104,34,31,154,98,107,27,59,57,136,56,77,44,46,53,32,31,55,40,51,39,43,35,133,160,48,37,169,135,33,52,29,29,103,55,24,54,43,23,51,40,155,83,26,38,82,38,26,25,24,58,46,90,128,70,30,44,69,42,21,158,127,39,47,65,36,36,37,31,18,86,159,92,39,28,66,35,37,38,34,34,30,45,137,24,51,293,28,37,33,33,49,263,50,26,39,58,62,70,50,38,62,152,158,45,22,26,47,48,48,67,30,110,34,65,23,35,22,96,75,81,37,71,21,126,25,302,23,198,32,30,39,98,14,27,37,157,54,39,33,45,144,180,169,61,39,41,74,204,88,74,37,39,35,43,42,37,30,82,32,28,55,67,244,24,159,159,70,57,139,40,86,116,3,53,42,54,33,30,70,94,62,72,142,85,66,32,55,58,16,71,38,44,77,148,32,85,22,38,32,198,104,44,42,61,43,46,76,61,76,46,61,22,50,44,257,159,58,33,96,29,63,53,34,33,65,30,19,36,40,63,4,50,28,57,32,38,86,37,116,77,17,156,38,13,88,64,205,114,78,121,25,46,28,126,46,23,84,72,30,22,48,24,46,86,158,31,25,35,106,48,60,97,36,71,83,153,38,82,94,52,84,33,42,24,54,23,45,37,28,44,73,202,140,13,29,53,132,35,96,73,55,60,83,111,40,141,104,133,26,53,70,67,22,63,33,74,60,144,220,55,127,27,162,112,30,3,61,39,103,48,34,37,89,31,22,36,23,45,42,40,28,84,52,78,54,23,93,24,51,22,23,65,21,29,66,32,34,153,23,32,69,180,255,31,59,138,67,37,122,29,97,76,84,56,36,84,128,96,35,46,276,25,46,153,74,27,63,147,154,70,163,24,85,49,26,48,35,24,49,48,80,39,29,32,75,25,60,154,230,27,94,87,116,126,28,160,60,153,55,22,42,36,34,77,147,55,54,34,22,111,160,89,153,67,48,57,161,139,158,90,29,22,38,92,84,74,40,63,134,35,35,54,27,111,157,124,22,77,37,71,74,28,34,35,67,41,33,83,38,61,32,62,79,22,158,37,23,43,108,23,81,154,85,54,22,34,69,74,102,22,32,77,26,29,52,60,44,77,263,65,31,73,115,131,31,24,71,23,79,24,97,71,38,44,88,155,36,7,71,27,49,46,23,183,118,92,38,87,29,154,45,24,69,141,114,132,85,75,32,37,122,19,106,67,51,40,40,28,152,17,138,60,28,142,139,80,34,290,25,5,63,153,104,82,74,15,77,37,129,54,63,66,329,40,86,82,24,111,156,36,35,112,72,61,27,30,46,32,43,154,55,27,35,39,70,115,68,29,27,34,66,21,139,150,49,19,40,113,44,51,156,33,157,32,46,142,36,117,94,52,180,39,87,47,70,121,14,142,23,64,25,45,36,101,38,142,51,163,146,27,41,25,151,85,30,60,74,61,22,408,56,31,45,138,22,38,53,93,283,36,60,36,154,103,65,149,200,26,124,31,65,39,83,42,35,23,41,72,66,43,46,116,56,55,166,29,96,36,49,61,39,141,30,30,31,73,25,29,381,69,26,36,278,68,50,89,237,236,95,85,44,99,23,145,26,160,97,39,24,33,76,49,15,22,51,28,69,159,44,24,20,126,41,40,162,171,28,62,71,109,135,2,17,21,25,23,74,26,149,24,30,62,132,43,42,58,125,94,104,94,39,26,60,22,158,58,120,47,110,205,73,31,29,152,42,48,137,105,155,45,35,78,159,126,49,73,166,50,142,120,54,153,23,52,90,23,24,156,25,73,34,158,208,56,112,35,34,30,24,46,34,142,75,95,77,79,229,44,117,70,53,106,30,86,38,67,39,97,30,73,35,72,134,106,35,22,31,19,54,29,101,22,89,75,34,27,34,37,172,52,24,54,56,41,89,34,43,43,43,26,55,66,55,49,7,27,28,33,157,38,159,139,22,48,32,80,26,106,51,56,13,33,30,31,35,24,26,49,70,59,64,109,25,24,36,55,36,66,25,37,44,160,63,33,17,40,43,10,51,154,113,147,50,64,26,9,22,10,124,32,24,95,35,59,73,88,77,64,76,55,26,112,77,53,102,79,42,59,32,70,70,124,21,77,25,36,75,36,48,175,237,23,105,62,37,52,22,42,79,133,91,99,62,34,40,157,133,56,93,31,26,83,76,22,42,120,62,24,158,46,61,156,53,73,87,74,58,80,32,147,51,45,29,157,56,68,22,22,84,43,62,46,47,151,240,45,30,114,32,43,110,201,151,86,46,41,84,29,98,86,15,37,42,7,111,42,29,68,62,69,145,38,46,29,121,33,42,89,74,71,45,37,33,54,69,43,81,53,76,22,27,109,12,44,58,5,121,80,22,58,40,299,39,92,158,82,35,66,27,32,85,126,75,92,27,35,145,113,31,22,166,276,171,76,158,22,24,44,51,44,47,44,36,415,32,22,40,24,160,80,27,237,134,33,80,45,48,148,156,38,49,38,48,22,98,149,37,22,33,83,24,38,129,85,46,87,106,95,86,107,40,33,146,136,100,64,73,146,39,32,65,41,152,9,34,66,133,125,132,44,42,142,62,54,54,56,90,111,22,22,57,24,38,32,70,25,96,97,27,9,42,61,51,28,22,26,78,51,42,247,81,15,28,28,78,60,59,59,146,73,47,152,31,66,19,57,100,22,44,67,84,48,43,69,27,72,28,133,98,70,41,111,97,89,31,89,143,43,46,111,27,175,42,138,50,30,49,91,36,30,63,119,26,82,23,53,66,62,74,93,29,43,119,256,51,21,51,85,94,22,31,24,46,65,32,120,36,71,70,166,32,41,98,450,150,47,57,154,33,27,91,39,53,88,28,43,32,73,30,154,107,101,31,49,281,37,70,114,116,47,27,87,88,228,102,133,88,36,77,104,87,28,130,79,184,53,31,85,77,23,76,28,30,75,36,23,33,99,24,67,24,85,28,46,4,55,93,70,86,101,157,49,25,35,48,43,27,18,4,22,69,37,39,134,85,116,42,40,23,61,43,109,30,329,91,31,29,22,40,29,38,41,51,35,89,51,40,112,141,45,71,35,29,143,48,21,98,136,32,43,48,25,19,133,66,58,119,53,38,45,99,77,55,23,21,33,46,23,82,127,74,23,65,278,26,152,45,3,51,45,152,42,101,29,63,168,125,35,38,49,31,24,40,113,119,50,23,47,38,51,32,125,36,55,23,35,87,71,94,99,51,23,162,82,32,146,121,40,27,28,97,159,28,36,64,30,26,189,160,26,29,24,29,47,72,37,125,52,192,126,39,25,35,33,38,77,38,17,130,133,40,11,45,67,40,84,100,145,30,2,125,133,56,42,70,50,135,46,38,46,44,212,51,116,80,48,64,88,161,147,24,101,40,36,26,23,59,104,41,50,40,29,49,45,163,86,129,40,69,28,34,162,23,39,82,36,80,81,10,90,112,40,72,82,37,40,39,22,84,40,45,32,97,102,34,22,51,59,33,26,28,36,44,45,90,99,70,68,104,37,51,23,251,40,38,44,101,27,22,120,51,17,49,89,7,26,3,79,35,122,54,74,50,25,61,35,31,79,169,135,33,23,43,23,65,65,155,118,58,34,45,155,36,82,40,127,149,38,58,61,24,39,25,69,33,245,139,166,122,56,32,35,35,23,103,68,49,25,64,60,40,113,28,329,54,158,26,21,40,38,154,45,42,34,87,43,51,91,27,98,153,63,273,22,66,33,70,96,19,67,12,37,57,125,26],\"xaxis\":\"x\",\"yaxis\":\"y\",\"type\":\"histogram\"},{\"alignmentgroup\":\"True\",\"bingroup\":\"x\",\"hovertemplate\":\"v1=spam\\u003cbr\\u003eLength=%{x}\\u003cbr\\u003ecount=%{y}\\u003cextra\\u003e\\u003c\\u002fextra\\u003e\",\"legendgroup\":\"spam\",\"marker\":{\"color\":\"#EF553B\",\"pattern\":{\"shape\":\"\"}},\"name\":\"spam\",\"nbinsx\":100,\"offsetgroup\":\"spam\",\"orientation\":\"v\",\"showlegend\":true,\"x\":[155,148,158,154,136,156,149,156,159,172,120,161,153,161,80,139,125,159,153,144,157,156,126,162,155,159,124,146,152,155,157,149,72,143,137,157,145,150,154,121,159,133,155,159,146,138,134,157,128,159,111,150,148,165,129,157,149,155,158,49,107,159,162,137,157,164,175,161,159,146,160,170,148,146,89,145,160,111,146,96,160,69,100,149,127,142,148,86,135,140,130,150,143,136,97,59,42,154,158,111,155,160,37,163,147,101,149,132,102,65,96,161,151,99,129,158,160,154,162,143,150,133,156,161,147,152,149,155,162,153,160,144,161,149,134,154,158,137,132,143,127,125,162,155,140,159,149,132,137,41,157,141,149,150,158,156,101,104,135,153,143,134,157,90,153,147,142,159,70,156,153,156,105,120,158,115,140,155,159,155,49,147,148,50,143,146,159,123,81,120,147,66,163,155,140,126,155,101,151,154,159,143,163,143,152,71,141,142,159,154,81,153,159,161,130,154,122,121,157,159,150,156,145,149,136,146,144,153,132,71,147,161,91,160,123,148,160,158,73,174,114,126,148,145,138,224,159,155,143,162,33,154,164,154,132,156,151,161,158,154,117,84,155,132,155,153,163,156,143,158,145,142,160,162,156,74,133,104,153,129,143,120,158,155,152,159,162,149,161,30,156,161,144,159,155,159,161,160,170,137,154,161,147,158,152,159,161,156,157,181,160,157,155,160,122,33,159,48,183,160,147,162,151,158,114,167,160,120,82,149,162,158,158,109,161,152,158,152,158,152,122,161,116,168,150,158,100,101,156,70,160,153,134,131,153,137,156,173,109,154,147,130,165,163,130,136,158,153,158,25,156,160,118,135,154,166,158,155,141,124,124,131,33,158,160,137,152,158,160,111,157,151,52,152,140,154,163,139,137,148,48,100,120,147,135,159,107,147,122,134,111,164,110,152,153,141,147,121,140,112,143,139,156,144,145,160,152,101,114,159,153,148,159,157,136,142,157,173,50,139,105,157,134,40,146,140,78,150,160,81,127,153,157,136,157,153,64,160,158,161,106,139,153,153,101,157,148,140,161,156,150,157,152,162,157,68,133,134,145,149,143,155,157,115,166,157,152,128,156,150,179,159,114,197,156,13,147,101,109,158,137,159,86,155,156,158,159,120,162,162,152,139,109,107,96,151,151,153,121,128,145,86,158,102,114,138,135,146,160,18,63,137,95,143,159,161,149,73,159,159,149,47,156,156,159,149,141,106,114,154,148,135,167,132,122,141,157,152,146,160,161,144,154,112,157,144,149,158,155,148,157,72,157,160,135,105,74,157,152,136,163,158,74,155,81,138,162,134,161,145,163,126,135,133,146,144,156,72,132,83,137,161,151,47,65,125,158,73,51,161,163,160,143,156,148,115,159,152,127,158,159,156,144,108,139,166,143,155,158,136,152,160,155,132,153,143,154,106,160,155,144,139,89,147,136,158,153,69,152,153,135,136,159,95,137,147,150,132,146,134,181,155,153,159,124,120,137,140,153,160,137,138,177,169,156,154,146,133,126,149,135,109,159,145,132,160,137,132,158,149,153,47,159,156,44,164,162,156,160,119,142,156,150,151,164,160,136,146,159,155,127,145,144,156,155,157,157,156,112,106,157,156,139,90,160,42,106,163,70,112,157,147,85,156,143,149,145,161,158,148,153,134,90,160,160,147,161],\"xaxis\":\"x\",\"yaxis\":\"y\",\"type\":\"histogram\"}],                        {\"template\":{\"data\":{\"histogram2dcontour\":[{\"type\":\"histogram2dcontour\",\"colorbar\":{\"outlinewidth\":0,\"ticks\":\"\"},\"colorscale\":[[0.0,\"#0d0887\"],[0.1111111111111111,\"#46039f\"],[0.2222222222222222,\"#7201a8\"],[0.3333333333333333,\"#9c179e\"],[0.4444444444444444,\"#bd3786\"],[0.5555555555555556,\"#d8576b\"],[0.6666666666666666,\"#ed7953\"],[0.7777777777777778,\"#fb9f3a\"],[0.8888888888888888,\"#fdca26\"],[1.0,\"#f0f921\"]]}],\"choropleth\":[{\"type\":\"choropleth\",\"colorbar\":{\"outlinewidth\":0,\"ticks\":\"\"}}],\"histogram2d\":[{\"type\":\"histogram2d\",\"colorbar\":{\"outlinewidth\":0,\"ticks\":\"\"},\"colorscale\":[[0.0,\"#0d0887\"],[0.1111111111111111,\"#46039f\"],[0.2222222222222222,\"#7201a8\"],[0.3333333333333333,\"#9c179e\"],[0.4444444444444444,\"#bd3786\"],[0.5555555555555556,\"#d8576b\"],[0.6666666666666666,\"#ed7953\"],[0.7777777777777778,\"#fb9f3a\"],[0.8888888888888888,\"#fdca26\"],[1.0,\"#f0f921\"]]}],\"heatmap\":[{\"type\":\"heatmap\",\"colorbar\":{\"outlinewidth\":0,\"ticks\":\"\"},\"colorscale\":[[0.0,\"#0d0887\"],[0.1111111111111111,\"#46039f\"],[0.2222222222222222,\"#7201a8\"],[0.3333333333333333,\"#9c179e\"],[0.4444444444444444,\"#bd3786\"],[0.5555555555555556,\"#d8576b\"],[0.6666666666666666,\"#ed7953\"],[0.7777777777777778,\"#fb9f3a\"],[0.8888888888888888,\"#fdca26\"],[1.0,\"#f0f921\"]]}],\"heatmapgl\":[{\"type\":\"heatmapgl\",\"colorbar\":{\"outlinewidth\":0,\"ticks\":\"\"},\"colorscale\":[[0.0,\"#0d0887\"],[0.1111111111111111,\"#46039f\"],[0.2222222222222222,\"#7201a8\"],[0.3333333333333333,\"#9c179e\"],[0.4444444444444444,\"#bd3786\"],[0.5555555555555556,\"#d8576b\"],[0.6666666666666666,\"#ed7953\"],[0.7777777777777778,\"#fb9f3a\"],[0.8888888888888888,\"#fdca26\"],[1.0,\"#f0f921\"]]}],\"contourcarpet\":[{\"type\":\"contourcarpet\",\"colorbar\":{\"outlinewidth\":0,\"ticks\":\"\"}}],\"contour\":[{\"type\":\"contour\",\"colorbar\":{\"outlinewidth\":0,\"ticks\":\"\"},\"colorscale\":[[0.0,\"#0d0887\"],[0.1111111111111111,\"#46039f\"],[0.2222222222222222,\"#7201a8\"],[0.3333333333333333,\"#9c179e\"],[0.4444444444444444,\"#bd3786\"],[0.5555555555555556,\"#d8576b\"],[0.6666666666666666,\"#ed7953\"],[0.7777777777777778,\"#fb9f3a\"],[0.8888888888888888,\"#fdca26\"],[1.0,\"#f0f921\"]]}],\"surface\":[{\"type\":\"surface\",\"colorbar\":{\"outlinewidth\":0,\"ticks\":\"\"},\"colorscale\":[[0.0,\"#0d0887\"],[0.1111111111111111,\"#46039f\"],[0.2222222222222222,\"#7201a8\"],[0.3333333333333333,\"#9c179e\"],[0.4444444444444444,\"#bd3786\"],[0.5555555555555556,\"#d8576b\"],[0.6666666666666666,\"#ed7953\"],[0.7777777777777778,\"#fb9f3a\"],[0.8888888888888888,\"#fdca26\"],[1.0,\"#f0f921\"]]}],\"mesh3d\":[{\"type\":\"mesh3d\",\"colorbar\":{\"outlinewidth\":0,\"ticks\":\"\"}}],\"scatter\":[{\"fillpattern\":{\"fillmode\":\"overlay\",\"size\":10,\"solidity\":0.2},\"type\":\"scatter\"}],\"parcoords\":[{\"type\":\"parcoords\",\"line\":{\"colorbar\":{\"outlinewidth\":0,\"ticks\":\"\"}}}],\"scatterpolargl\":[{\"type\":\"scatterpolargl\",\"marker\":{\"colorbar\":{\"outlinewidth\":0,\"ticks\":\"\"}}}],\"bar\":[{\"error_x\":{\"color\":\"#2a3f5f\"},\"error_y\":{\"color\":\"#2a3f5f\"},\"marker\":{\"line\":{\"color\":\"#E5ECF6\",\"width\":0.5},\"pattern\":{\"fillmode\":\"overlay\",\"size\":10,\"solidity\":0.2}},\"type\":\"bar\"}],\"scattergeo\":[{\"type\":\"scattergeo\",\"marker\":{\"colorbar\":{\"outlinewidth\":0,\"ticks\":\"\"}}}],\"scatterpolar\":[{\"type\":\"scatterpolar\",\"marker\":{\"colorbar\":{\"outlinewidth\":0,\"ticks\":\"\"}}}],\"histogram\":[{\"marker\":{\"pattern\":{\"fillmode\":\"overlay\",\"size\":10,\"solidity\":0.2}},\"type\":\"histogram\"}],\"scattergl\":[{\"type\":\"scattergl\",\"marker\":{\"colorbar\":{\"outlinewidth\":0,\"ticks\":\"\"}}}],\"scatter3d\":[{\"type\":\"scatter3d\",\"line\":{\"colorbar\":{\"outlinewidth\":0,\"ticks\":\"\"}},\"marker\":{\"colorbar\":{\"outlinewidth\":0,\"ticks\":\"\"}}}],\"scattermapbox\":[{\"type\":\"scattermapbox\",\"marker\":{\"colorbar\":{\"outlinewidth\":0,\"ticks\":\"\"}}}],\"scatterternary\":[{\"type\":\"scatterternary\",\"marker\":{\"colorbar\":{\"outlinewidth\":0,\"ticks\":\"\"}}}],\"scattercarpet\":[{\"type\":\"scattercarpet\",\"marker\":{\"colorbar\":{\"outlinewidth\":0,\"ticks\":\"\"}}}],\"carpet\":[{\"aaxis\":{\"endlinecolor\":\"#2a3f5f\",\"gridcolor\":\"white\",\"linecolor\":\"white\",\"minorgridcolor\":\"white\",\"startlinecolor\":\"#2a3f5f\"},\"baxis\":{\"endlinecolor\":\"#2a3f5f\",\"gridcolor\":\"white\",\"linecolor\":\"white\",\"minorgridcolor\":\"white\",\"startlinecolor\":\"#2a3f5f\"},\"type\":\"carpet\"}],\"table\":[{\"cells\":{\"fill\":{\"color\":\"#EBF0F8\"},\"line\":{\"color\":\"white\"}},\"header\":{\"fill\":{\"color\":\"#C8D4E3\"},\"line\":{\"color\":\"white\"}},\"type\":\"table\"}],\"barpolar\":[{\"marker\":{\"line\":{\"color\":\"#E5ECF6\",\"width\":0.5},\"pattern\":{\"fillmode\":\"overlay\",\"size\":10,\"solidity\":0.2}},\"type\":\"barpolar\"}],\"pie\":[{\"automargin\":true,\"type\":\"pie\"}]},\"layout\":{\"autotypenumbers\":\"strict\",\"colorway\":[\"#636efa\",\"#EF553B\",\"#00cc96\",\"#ab63fa\",\"#FFA15A\",\"#19d3f3\",\"#FF6692\",\"#B6E880\",\"#FF97FF\",\"#FECB52\"],\"font\":{\"color\":\"#2a3f5f\"},\"hovermode\":\"closest\",\"hoverlabel\":{\"align\":\"left\"},\"paper_bgcolor\":\"white\",\"plot_bgcolor\":\"#E5ECF6\",\"polar\":{\"bgcolor\":\"#E5ECF6\",\"angularaxis\":{\"gridcolor\":\"white\",\"linecolor\":\"white\",\"ticks\":\"\"},\"radialaxis\":{\"gridcolor\":\"white\",\"linecolor\":\"white\",\"ticks\":\"\"}},\"ternary\":{\"bgcolor\":\"#E5ECF6\",\"aaxis\":{\"gridcolor\":\"white\",\"linecolor\":\"white\",\"ticks\":\"\"},\"baxis\":{\"gridcolor\":\"white\",\"linecolor\":\"white\",\"ticks\":\"\"},\"caxis\":{\"gridcolor\":\"white\",\"linecolor\":\"white\",\"ticks\":\"\"}},\"coloraxis\":{\"colorbar\":{\"outlinewidth\":0,\"ticks\":\"\"}},\"colorscale\":{\"sequential\":[[0.0,\"#0d0887\"],[0.1111111111111111,\"#46039f\"],[0.2222222222222222,\"#7201a8\"],[0.3333333333333333,\"#9c179e\"],[0.4444444444444444,\"#bd3786\"],[0.5555555555555556,\"#d8576b\"],[0.6666666666666666,\"#ed7953\"],[0.7777777777777778,\"#fb9f3a\"],[0.8888888888888888,\"#fdca26\"],[1.0,\"#f0f921\"]],\"sequentialminus\":[[0.0,\"#0d0887\"],[0.1111111111111111,\"#46039f\"],[0.2222222222222222,\"#7201a8\"],[0.3333333333333333,\"#9c179e\"],[0.4444444444444444,\"#bd3786\"],[0.5555555555555556,\"#d8576b\"],[0.6666666666666666,\"#ed7953\"],[0.7777777777777778,\"#fb9f3a\"],[0.8888888888888888,\"#fdca26\"],[1.0,\"#f0f921\"]],\"diverging\":[[0,\"#8e0152\"],[0.1,\"#c51b7d\"],[0.2,\"#de77ae\"],[0.3,\"#f1b6da\"],[0.4,\"#fde0ef\"],[0.5,\"#f7f7f7\"],[0.6,\"#e6f5d0\"],[0.7,\"#b8e186\"],[0.8,\"#7fbc41\"],[0.9,\"#4d9221\"],[1,\"#276419\"]]},\"xaxis\":{\"gridcolor\":\"white\",\"linecolor\":\"white\",\"ticks\":\"\",\"title\":{\"standoff\":15},\"zerolinecolor\":\"white\",\"automargin\":true,\"zerolinewidth\":2},\"yaxis\":{\"gridcolor\":\"white\",\"linecolor\":\"white\",\"ticks\":\"\",\"title\":{\"standoff\":15},\"zerolinecolor\":\"white\",\"automargin\":true,\"zerolinewidth\":2},\"scene\":{\"xaxis\":{\"backgroundcolor\":\"#E5ECF6\",\"gridcolor\":\"white\",\"linecolor\":\"white\",\"showbackground\":true,\"ticks\":\"\",\"zerolinecolor\":\"white\",\"gridwidth\":2},\"yaxis\":{\"backgroundcolor\":\"#E5ECF6\",\"gridcolor\":\"white\",\"linecolor\":\"white\",\"showbackground\":true,\"ticks\":\"\",\"zerolinecolor\":\"white\",\"gridwidth\":2},\"zaxis\":{\"backgroundcolor\":\"#E5ECF6\",\"gridcolor\":\"white\",\"linecolor\":\"white\",\"showbackground\":true,\"ticks\":\"\",\"zerolinecolor\":\"white\",\"gridwidth\":2}},\"shapedefaults\":{\"line\":{\"color\":\"#2a3f5f\"}},\"annotationdefaults\":{\"arrowcolor\":\"#2a3f5f\",\"arrowhead\":0,\"arrowwidth\":1},\"geo\":{\"bgcolor\":\"white\",\"landcolor\":\"#E5ECF6\",\"subunitcolor\":\"white\",\"showland\":true,\"showlakes\":true,\"lakecolor\":\"white\"},\"title\":{\"x\":0.05},\"mapbox\":{\"style\":\"light\"}}},\"xaxis\":{\"anchor\":\"y\",\"domain\":[0.0,1.0],\"title\":{\"text\":\"Length\"}},\"yaxis\":{\"anchor\":\"x\",\"domain\":[0.0,1.0],\"title\":{\"text\":\"count\"}},\"legend\":{\"title\":{\"text\":\"v1\"},\"tracegroupgap\":0},\"margin\":{\"t\":60},\"barmode\":\"relative\"},                        {\"responsive\": true}                    ).then(function(){\n",
              "                            \n",
              "var gd = document.getElementById('18a0b13e-f9b1-4f05-8479-04206bade760');\n",
              "var x = new MutationObserver(function (mutations, observer) {{\n",
              "        var display = window.getComputedStyle(gd).display;\n",
              "        if (!display || display === 'none') {{\n",
              "            console.log([gd, 'removed!']);\n",
              "            Plotly.purge(gd);\n",
              "            observer.disconnect();\n",
              "        }}\n",
              "}});\n",
              "\n",
              "// Listen for the removal of the full notebook cells\n",
              "var notebookContainer = gd.closest('#notebook-container');\n",
              "if (notebookContainer) {{\n",
              "    x.observe(notebookContainer, {childList: true});\n",
              "}}\n",
              "\n",
              "// Listen for the clearing of the current output cell\n",
              "var outputEl = gd.closest('.output');\n",
              "if (outputEl) {{\n",
              "    x.observe(outputEl, {childList: true});\n",
              "}}\n",
              "\n",
              "                        })                };                            </script>        </div>\n",
              "</body>\n",
              "</html>"
            ]
          },
          "metadata": {}
        }
      ]
    },
    {
      "cell_type": "markdown",
      "source": [
        "# **Section II** **Remove Punctuation from message**\n",
        "\n",
        "# Small Library to Pre Process Text Data\n"
      ],
      "metadata": {
        "id": "P0AOwf714DpU"
      }
    },
    {
      "cell_type": "code",
      "source": [
        "class PreProcessText(object):\n",
        "    def __init__(self):\n",
        "        pass\n",
        "\n",
        "    def __remove_punctuation(self, text):\n",
        "        \"\"\"\n",
        "        Takes a String\n",
        "        return : Return a String\n",
        "        \"\"\"\n",
        "        message = []\n",
        "        for x in text:\n",
        "            if x in string.punctuation:\n",
        "                pass\n",
        "            else:\n",
        "                message.append(x)\n",
        "        message = ''.join(message)\n",
        "\n",
        "        return message\n",
        "\n",
        "    def __remove_stopwords(self, text):\n",
        "        \"\"\"\n",
        "        Takes a String\n",
        "        return List\n",
        "        \"\"\"\n",
        "        words= []\n",
        "        for x in text.split():\n",
        "\n",
        "            if x.lower() in stopwords.words('english'):\n",
        "                pass\n",
        "            else:\n",
        "                words.append(x)\n",
        "        return words\n",
        "\n",
        "\n",
        "    def token_words(self,text=''):\n",
        "        \"\"\"\n",
        "        Takes String\n",
        "        Return Token also called  list of words that is used to\n",
        "        Train the Model\n",
        "        \"\"\"\n",
        "        message = self.__remove_punctuation(text)\n",
        "        words = self.__remove_stopwords(message)\n",
        "        return words\n",
        ""
      ],
      "metadata": {
        "id": "4_LgMXPi0GIT"
      },
      "execution_count": 122,
      "outputs": []
    },
    {
      "cell_type": "code",
      "source": [
        "pip install nltk\n"
      ],
      "metadata": {
        "colab": {
          "base_uri": "https://localhost:8080/"
        },
        "id": "iFx6TJSW9TMi",
        "outputId": "a49c25da-e285-44fc-9f72-680454a5d042"
      },
      "execution_count": 123,
      "outputs": [
        {
          "output_type": "stream",
          "name": "stdout",
          "text": [
            "Requirement already satisfied: nltk in /usr/local/lib/python3.10/dist-packages (3.8.1)\n",
            "Requirement already satisfied: click in /usr/local/lib/python3.10/dist-packages (from nltk) (8.1.7)\n",
            "Requirement already satisfied: joblib in /usr/local/lib/python3.10/dist-packages (from nltk) (1.3.2)\n",
            "Requirement already satisfied: regex>=2021.8.3 in /usr/local/lib/python3.10/dist-packages (from nltk) (2023.6.3)\n",
            "Requirement already satisfied: tqdm in /usr/local/lib/python3.10/dist-packages (from nltk) (4.66.1)\n"
          ]
        }
      ]
    },
    {
      "cell_type": "code",
      "source": [
        "import nltk\n",
        "\n",
        "# Download the required resource\n",
        "nltk.download('punkt')\n",
        "\n",
        "class PreProcessText:\n",
        "    def token_words(self, text):\n",
        "        words = nltk.word_tokenize(text)\n",
        "        return words\n",
        "\n",
        "# Sample message\n",
        "mess = 'Sample message! Notice: it has punctuation.'\n",
        "\n",
        "# Instantiate PreProcessText class\n",
        "obj = PreProcessText()\n",
        "\n",
        "# Tokenize words\n",
        "words = obj.token_words(mess)\n",
        "\n",
        "# Print the result\n",
        "print(words)\n",
        "\n"
      ],
      "metadata": {
        "colab": {
          "base_uri": "https://localhost:8080/"
        },
        "id": "XTu3l67E7foZ",
        "outputId": "b7c758c9-7891-4781-db22-8338069759a5"
      },
      "execution_count": 124,
      "outputs": [
        {
          "output_type": "stream",
          "name": "stdout",
          "text": [
            "['Sample', 'message', '!', 'Notice', ':', 'it', 'has', 'punctuation', '.']\n"
          ]
        },
        {
          "output_type": "stream",
          "name": "stderr",
          "text": [
            "[nltk_data] Downloading package punkt to /root/nltk_data...\n",
            "[nltk_data]   Package punkt is already up-to-date!\n"
          ]
        }
      ]
    },
    {
      "cell_type": "markdown",
      "source": [
        "we have converted our string into Token for the Model"
      ],
      "metadata": {
        "id": "Wr2BnaqJ9xYW"
      }
    },
    {
      "cell_type": "code",
      "source": [
        "data[\"v2\"].head(4).apply(obj.token_words)"
      ],
      "metadata": {
        "colab": {
          "base_uri": "https://localhost:8080/"
        },
        "id": "dAPs-xu_88z6",
        "outputId": "cb015eea-2079-4fe2-cd3b-02cff131fe32"
      },
      "execution_count": 125,
      "outputs": [
        {
          "output_type": "execute_result",
          "data": {
            "text/plain": [
              "0    [Go, until, jurong, point, ,, crazy, .., Avail...\n",
              "1             [Ok, lar, ..., Joking, wif, u, oni, ...]\n",
              "2    [Free, entry, in, 2, a, wkly, comp, to, win, F...\n",
              "3    [U, dun, say, so, early, hor, ..., U, c, alrea...\n",
              "Name: v2, dtype: object"
            ]
          },
          "metadata": {},
          "execution_count": 125
        }
      ]
    },
    {
      "cell_type": "markdown",
      "source": [
        "Vectorization"
      ],
      "metadata": {
        "id": "MXr_AbHR95mt"
      }
    },
    {
      "cell_type": "code",
      "source": [
        "bow_transformer = CountVectorizer(analyzer=obj.token_words).fit(data[\"v2\"])"
      ],
      "metadata": {
        "id": "LcI2LSrA96e3"
      },
      "execution_count": 126,
      "outputs": []
    },
    {
      "cell_type": "code",
      "source": [
        "messages_bow = bow_transformer.transform(data[\"v2\"])"
      ],
      "metadata": {
        "id": "exP-kT5l9_6y"
      },
      "execution_count": 127,
      "outputs": []
    },
    {
      "cell_type": "code",
      "source": [
        "print(\"Shape of sparese matrix {}\".format(messages_bow.shape))"
      ],
      "metadata": {
        "colab": {
          "base_uri": "https://localhost:8080/"
        },
        "id": "Z6dyQgLe-H_D",
        "outputId": "10bce27a-034d-4fcd-c02d-1d9b724d3fd3"
      },
      "execution_count": 128,
      "outputs": [
        {
          "output_type": "stream",
          "name": "stdout",
          "text": [
            "Shape of sparese matrix (5572, 11520)\n"
          ]
        }
      ]
    },
    {
      "cell_type": "markdown",
      "source": [
        "Formula to check Sparsity"
      ],
      "metadata": {
        "id": "tqoCL2XK-MYP"
      }
    },
    {
      "cell_type": "code",
      "source": [
        "sparsity = (100.0 * messages_bow.nnz / (messages_bow.shape[0] * messages_bow.shape[1]))\n",
        "print('sparsity: {}'.format(sparsity))"
      ],
      "metadata": {
        "colab": {
          "base_uri": "https://localhost:8080/"
        },
        "id": "710rChoq-NCC",
        "outputId": "4c2349bc-89b1-4662-8992-1bc0fbc60d64"
      },
      "execution_count": 129,
      "outputs": [
        {
          "output_type": "stream",
          "name": "stdout",
          "text": [
            "sparsity: 0.14253434832894632\n"
          ]
        }
      ]
    },
    {
      "cell_type": "markdown",
      "source": [
        "Converted word count into TFIDF think this a weight"
      ],
      "metadata": {
        "id": "VHqKvND9-W-p"
      }
    },
    {
      "cell_type": "code",
      "source": [
        "tfidf_transformer = TfidfTransformer().fit(messages_bow)"
      ],
      "metadata": {
        "id": "y1df1anG-RZo"
      },
      "execution_count": 130,
      "outputs": []
    },
    {
      "cell_type": "code",
      "source": [
        "messages_tfidf = tfidf_transformer.transform(messages_bow)"
      ],
      "metadata": {
        "id": "RJ9e1QuC-s77"
      },
      "execution_count": 131,
      "outputs": []
    },
    {
      "cell_type": "markdown",
      "source": [
        "Train the Model"
      ],
      "metadata": {
        "id": "SCQwRgZY-xoD"
      }
    },
    {
      "cell_type": "code",
      "source": [
        "from sklearn.naive_bayes import MultinomialNB"
      ],
      "metadata": {
        "id": "MOBIabgP-tib"
      },
      "execution_count": 132,
      "outputs": []
    },
    {
      "cell_type": "code",
      "source": [
        "model = MultinomialNB().fit(messages_tfidf,data[\"v1\"])"
      ],
      "metadata": {
        "id": "uzKCuVa6-1o0"
      },
      "execution_count": 133,
      "outputs": []
    },
    {
      "cell_type": "markdown",
      "source": [
        "Prediction"
      ],
      "metadata": {
        "id": "XQVC0PrZ_ErR"
      }
    },
    {
      "cell_type": "code",
      "source": [
        "all_predictions = model.predict(messages_tfidf)\n",
        "pred = pd.DataFrame(data=all_predictions)\n",
        "# Display first 6 predictions\n",
        "pred.head(6)"
      ],
      "metadata": {
        "colab": {
          "base_uri": "https://localhost:8080/",
          "height": 238
        },
        "id": "FqVrks8h-3_E",
        "outputId": "8fdfc737-aab0-4ab6-ceb3-5baf359664f0"
      },
      "execution_count": 134,
      "outputs": [
        {
          "output_type": "execute_result",
          "data": {
            "text/plain": [
              "      0\n",
              "0   ham\n",
              "1   ham\n",
              "2  spam\n",
              "3   ham\n",
              "4   ham\n",
              "5   ham"
            ],
            "text/html": [
              "\n",
              "  <div id=\"df-069faa6a-514e-4030-8e42-a3ba36f93e75\" class=\"colab-df-container\">\n",
              "    <div>\n",
              "<style scoped>\n",
              "    .dataframe tbody tr th:only-of-type {\n",
              "        vertical-align: middle;\n",
              "    }\n",
              "\n",
              "    .dataframe tbody tr th {\n",
              "        vertical-align: top;\n",
              "    }\n",
              "\n",
              "    .dataframe thead th {\n",
              "        text-align: right;\n",
              "    }\n",
              "</style>\n",
              "<table border=\"1\" class=\"dataframe\">\n",
              "  <thead>\n",
              "    <tr style=\"text-align: right;\">\n",
              "      <th></th>\n",
              "      <th>0</th>\n",
              "    </tr>\n",
              "  </thead>\n",
              "  <tbody>\n",
              "    <tr>\n",
              "      <th>0</th>\n",
              "      <td>ham</td>\n",
              "    </tr>\n",
              "    <tr>\n",
              "      <th>1</th>\n",
              "      <td>ham</td>\n",
              "    </tr>\n",
              "    <tr>\n",
              "      <th>2</th>\n",
              "      <td>spam</td>\n",
              "    </tr>\n",
              "    <tr>\n",
              "      <th>3</th>\n",
              "      <td>ham</td>\n",
              "    </tr>\n",
              "    <tr>\n",
              "      <th>4</th>\n",
              "      <td>ham</td>\n",
              "    </tr>\n",
              "    <tr>\n",
              "      <th>5</th>\n",
              "      <td>ham</td>\n",
              "    </tr>\n",
              "  </tbody>\n",
              "</table>\n",
              "</div>\n",
              "    <div class=\"colab-df-buttons\">\n",
              "\n",
              "  <div class=\"colab-df-container\">\n",
              "    <button class=\"colab-df-convert\" onclick=\"convertToInteractive('df-069faa6a-514e-4030-8e42-a3ba36f93e75')\"\n",
              "            title=\"Convert this dataframe to an interactive table.\"\n",
              "            style=\"display:none;\">\n",
              "\n",
              "  <svg xmlns=\"http://www.w3.org/2000/svg\" height=\"24px\" viewBox=\"0 -960 960 960\">\n",
              "    <path d=\"M120-120v-720h720v720H120Zm60-500h600v-160H180v160Zm220 220h160v-160H400v160Zm0 220h160v-160H400v160ZM180-400h160v-160H180v160Zm440 0h160v-160H620v160ZM180-180h160v-160H180v160Zm440 0h160v-160H620v160Z\"/>\n",
              "  </svg>\n",
              "    </button>\n",
              "\n",
              "  <style>\n",
              "    .colab-df-container {\n",
              "      display:flex;\n",
              "      gap: 12px;\n",
              "    }\n",
              "\n",
              "    .colab-df-convert {\n",
              "      background-color: #E8F0FE;\n",
              "      border: none;\n",
              "      border-radius: 50%;\n",
              "      cursor: pointer;\n",
              "      display: none;\n",
              "      fill: #1967D2;\n",
              "      height: 32px;\n",
              "      padding: 0 0 0 0;\n",
              "      width: 32px;\n",
              "    }\n",
              "\n",
              "    .colab-df-convert:hover {\n",
              "      background-color: #E2EBFA;\n",
              "      box-shadow: 0px 1px 2px rgba(60, 64, 67, 0.3), 0px 1px 3px 1px rgba(60, 64, 67, 0.15);\n",
              "      fill: #174EA6;\n",
              "    }\n",
              "\n",
              "    .colab-df-buttons div {\n",
              "      margin-bottom: 4px;\n",
              "    }\n",
              "\n",
              "    [theme=dark] .colab-df-convert {\n",
              "      background-color: #3B4455;\n",
              "      fill: #D2E3FC;\n",
              "    }\n",
              "\n",
              "    [theme=dark] .colab-df-convert:hover {\n",
              "      background-color: #434B5C;\n",
              "      box-shadow: 0px 1px 3px 1px rgba(0, 0, 0, 0.15);\n",
              "      filter: drop-shadow(0px 1px 2px rgba(0, 0, 0, 0.3));\n",
              "      fill: #FFFFFF;\n",
              "    }\n",
              "  </style>\n",
              "\n",
              "    <script>\n",
              "      const buttonEl =\n",
              "        document.querySelector('#df-069faa6a-514e-4030-8e42-a3ba36f93e75 button.colab-df-convert');\n",
              "      buttonEl.style.display =\n",
              "        google.colab.kernel.accessAllowed ? 'block' : 'none';\n",
              "\n",
              "      async function convertToInteractive(key) {\n",
              "        const element = document.querySelector('#df-069faa6a-514e-4030-8e42-a3ba36f93e75');\n",
              "        const dataTable =\n",
              "          await google.colab.kernel.invokeFunction('convertToInteractive',\n",
              "                                                    [key], {});\n",
              "        if (!dataTable) return;\n",
              "\n",
              "        const docLinkHtml = 'Like what you see? Visit the ' +\n",
              "          '<a target=\"_blank\" href=https://colab.research.google.com/notebooks/data_table.ipynb>data table notebook</a>'\n",
              "          + ' to learn more about interactive tables.';\n",
              "        element.innerHTML = '';\n",
              "        dataTable['output_type'] = 'display_data';\n",
              "        await google.colab.output.renderOutput(dataTable, element);\n",
              "        const docLink = document.createElement('div');\n",
              "        docLink.innerHTML = docLinkHtml;\n",
              "        element.appendChild(docLink);\n",
              "      }\n",
              "    </script>\n",
              "  </div>\n",
              "\n",
              "\n",
              "<div id=\"df-673a7ddf-8bde-4958-8717-630e8d99494a\">\n",
              "  <button class=\"colab-df-quickchart\" onclick=\"quickchart('df-673a7ddf-8bde-4958-8717-630e8d99494a')\"\n",
              "            title=\"Suggest charts\"\n",
              "            style=\"display:none;\">\n",
              "\n",
              "<svg xmlns=\"http://www.w3.org/2000/svg\" height=\"24px\"viewBox=\"0 0 24 24\"\n",
              "     width=\"24px\">\n",
              "    <g>\n",
              "        <path d=\"M19 3H5c-1.1 0-2 .9-2 2v14c0 1.1.9 2 2 2h14c1.1 0 2-.9 2-2V5c0-1.1-.9-2-2-2zM9 17H7v-7h2v7zm4 0h-2V7h2v10zm4 0h-2v-4h2v4z\"/>\n",
              "    </g>\n",
              "</svg>\n",
              "  </button>\n",
              "\n",
              "<style>\n",
              "  .colab-df-quickchart {\n",
              "      --bg-color: #E8F0FE;\n",
              "      --fill-color: #1967D2;\n",
              "      --hover-bg-color: #E2EBFA;\n",
              "      --hover-fill-color: #174EA6;\n",
              "      --disabled-fill-color: #AAA;\n",
              "      --disabled-bg-color: #DDD;\n",
              "  }\n",
              "\n",
              "  [theme=dark] .colab-df-quickchart {\n",
              "      --bg-color: #3B4455;\n",
              "      --fill-color: #D2E3FC;\n",
              "      --hover-bg-color: #434B5C;\n",
              "      --hover-fill-color: #FFFFFF;\n",
              "      --disabled-bg-color: #3B4455;\n",
              "      --disabled-fill-color: #666;\n",
              "  }\n",
              "\n",
              "  .colab-df-quickchart {\n",
              "    background-color: var(--bg-color);\n",
              "    border: none;\n",
              "    border-radius: 50%;\n",
              "    cursor: pointer;\n",
              "    display: none;\n",
              "    fill: var(--fill-color);\n",
              "    height: 32px;\n",
              "    padding: 0;\n",
              "    width: 32px;\n",
              "  }\n",
              "\n",
              "  .colab-df-quickchart:hover {\n",
              "    background-color: var(--hover-bg-color);\n",
              "    box-shadow: 0 1px 2px rgba(60, 64, 67, 0.3), 0 1px 3px 1px rgba(60, 64, 67, 0.15);\n",
              "    fill: var(--button-hover-fill-color);\n",
              "  }\n",
              "\n",
              "  .colab-df-quickchart-complete:disabled,\n",
              "  .colab-df-quickchart-complete:disabled:hover {\n",
              "    background-color: var(--disabled-bg-color);\n",
              "    fill: var(--disabled-fill-color);\n",
              "    box-shadow: none;\n",
              "  }\n",
              "\n",
              "  .colab-df-spinner {\n",
              "    border: 2px solid var(--fill-color);\n",
              "    border-color: transparent;\n",
              "    border-bottom-color: var(--fill-color);\n",
              "    animation:\n",
              "      spin 1s steps(1) infinite;\n",
              "  }\n",
              "\n",
              "  @keyframes spin {\n",
              "    0% {\n",
              "      border-color: transparent;\n",
              "      border-bottom-color: var(--fill-color);\n",
              "      border-left-color: var(--fill-color);\n",
              "    }\n",
              "    20% {\n",
              "      border-color: transparent;\n",
              "      border-left-color: var(--fill-color);\n",
              "      border-top-color: var(--fill-color);\n",
              "    }\n",
              "    30% {\n",
              "      border-color: transparent;\n",
              "      border-left-color: var(--fill-color);\n",
              "      border-top-color: var(--fill-color);\n",
              "      border-right-color: var(--fill-color);\n",
              "    }\n",
              "    40% {\n",
              "      border-color: transparent;\n",
              "      border-right-color: var(--fill-color);\n",
              "      border-top-color: var(--fill-color);\n",
              "    }\n",
              "    60% {\n",
              "      border-color: transparent;\n",
              "      border-right-color: var(--fill-color);\n",
              "    }\n",
              "    80% {\n",
              "      border-color: transparent;\n",
              "      border-right-color: var(--fill-color);\n",
              "      border-bottom-color: var(--fill-color);\n",
              "    }\n",
              "    90% {\n",
              "      border-color: transparent;\n",
              "      border-bottom-color: var(--fill-color);\n",
              "    }\n",
              "  }\n",
              "</style>\n",
              "\n",
              "  <script>\n",
              "    async function quickchart(key) {\n",
              "      const quickchartButtonEl =\n",
              "        document.querySelector('#' + key + ' button');\n",
              "      quickchartButtonEl.disabled = true;  // To prevent multiple clicks.\n",
              "      quickchartButtonEl.classList.add('colab-df-spinner');\n",
              "      try {\n",
              "        const charts = await google.colab.kernel.invokeFunction(\n",
              "            'suggestCharts', [key], {});\n",
              "      } catch (error) {\n",
              "        console.error('Error during call to suggestCharts:', error);\n",
              "      }\n",
              "      quickchartButtonEl.classList.remove('colab-df-spinner');\n",
              "      quickchartButtonEl.classList.add('colab-df-quickchart-complete');\n",
              "    }\n",
              "    (() => {\n",
              "      let quickchartButtonEl =\n",
              "        document.querySelector('#df-673a7ddf-8bde-4958-8717-630e8d99494a button');\n",
              "      quickchartButtonEl.style.display =\n",
              "        google.colab.kernel.accessAllowed ? 'block' : 'none';\n",
              "    })();\n",
              "  </script>\n",
              "</div>\n",
              "\n",
              "    </div>\n",
              "  </div>\n"
            ]
          },
          "metadata": {},
          "execution_count": 134
        }
      ]
    },
    {
      "cell_type": "markdown",
      "source": [
        "True Value"
      ],
      "metadata": {
        "id": "ZEYJExGl_NRa"
      }
    },
    {
      "cell_type": "code",
      "source": [
        "# Display first 6 true values\n",
        "data[\"v1\"].head(6)"
      ],
      "metadata": {
        "colab": {
          "base_uri": "https://localhost:8080/"
        },
        "id": "RD3mDds1_JHW",
        "outputId": "9d93358e-f1bc-4d38-a5ab-2ec3bac918cf"
      },
      "execution_count": 135,
      "outputs": [
        {
          "output_type": "execute_result",
          "data": {
            "text/plain": [
              "0     ham\n",
              "1     ham\n",
              "2    spam\n",
              "3     ham\n",
              "4     ham\n",
              "5    spam\n",
              "Name: v1, dtype: object"
            ]
          },
          "metadata": {},
          "execution_count": 135
        }
      ]
    }
  ]
}